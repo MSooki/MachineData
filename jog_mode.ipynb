{
 "cells": [
  {
   "cell_type": "markdown",
   "metadata": {},
   "source": [
    "# Jog mode adatelemzés"
   ]
  },
  {
   "cell_type": "code",
   "execution_count": 296,
   "metadata": {},
   "outputs": [],
   "source": [
    "import pandas as pd\n",
    "import numpy as np\n",
    "import matplotlib.pyplot as plt\n",
    "%matplotlib inline\n",
    "anomaly_num = 0"
   ]
  },
  {
   "cell_type": "code",
   "execution_count": 297,
   "metadata": {},
   "outputs": [],
   "source": [
    "import influxdb"
   ]
  },
  {
   "cell_type": "code",
   "execution_count": 298,
   "metadata": {},
   "outputs": [],
   "source": [
    "df = pd.read_csv(\"PLC_NBH170.csv\", sep=\";\")"
   ]
  },
  {
   "cell_type": "code",
   "execution_count": 299,
   "metadata": {},
   "outputs": [],
   "source": [
    "def switch(i):\n",
    "    switcher = {\n",
    "        'KBBUD10449-NBH170-PLCStationThing': \"10449\",\n",
    "        'KBBUD10704-NBH170-PLCStationThing': \"10704\",\n",
    "        'KBBUD10469-NBH170-PLCStationThing': \"10469\",\n",
    "        'KBBUD10460-NBH170-PLCStationThing': \"10460\",\n",
    "        'KBBUD10395-NBH170-PLCStationThing': \"10395\",\n",
    "        'KBBUD10424-NBH170-PLCStationThing': \"10424\",\n",
    "        'KBBUD10419-NBH170-PLCStationThing': \"10419\",\n",
    "        'KBBUD10396-NBH170-PLCStationThing': \"10396\"\n",
    "        \n",
    "    }\n",
    "    return switcher.get(i,\"invalid\")"
   ]
  },
  {
   "cell_type": "code",
   "execution_count": 300,
   "metadata": {},
   "outputs": [],
   "source": [
    "df['Machine'] = df['Machine'].apply(lambda x: switch(x))\n",
    "df['StatusTime'] = df['StatusTime'].apply(lambda x: x[:-4])\n",
    "\n",
    "del df['StatusType']\n",
    "del df['description']\n",
    "del df['CreationTime']"
   ]
  },
  {
   "cell_type": "markdown",
   "metadata": {},
   "source": [
    "# JOG/Auto MODE"
   ]
  },
  {
   "cell_type": "code",
   "execution_count": 301,
   "metadata": {},
   "outputs": [],
   "source": [
    "dfj = df[df['Status']=='JOG']\n",
    "dfm = df[df['Status']=='MODE']"
   ]
  },
  {
   "cell_type": "code",
   "execution_count": 302,
   "metadata": {},
   "outputs": [],
   "source": [
    "df = pd.concat([dfj,dfm])"
   ]
  },
  {
   "cell_type": "code",
   "execution_count": 303,
   "metadata": {},
   "outputs": [],
   "source": [
    "del df['Status']\n",
    "df = df.sort_values(by='StatusTime')"
   ]
  },
  {
   "cell_type": "code",
   "execution_count": 304,
   "metadata": {},
   "outputs": [],
   "source": [
    "list = []\n",
    "list.append(df[df['Machine']=='10449'])\n",
    "list.append(df[df['Machine']=='10704'])\n",
    "list.append(df[df['Machine']=='10469'])\n",
    "list.append(df[df['Machine']=='10460'])\n",
    "list.append(df[df['Machine']=='10395'])\n",
    "list.append(df[df['Machine']=='10424'])\n",
    "list.append(df[df['Machine']=='10419'])\n",
    "list.append(df[df['Machine']=='10396'])"
   ]
  },
  {
   "cell_type": "code",
   "execution_count": 305,
   "metadata": {},
   "outputs": [
    {
     "output_type": "execute_result",
     "data": {
      "text/plain": "             Id Machine           StatusTime SubStatus\n74          227   10395  2019-08-21 13:29:05        ON\n83          255   10395  2019-08-21 13:30:04      AUTO\n85          267   10395  2019-08-21 13:30:24        ON\n90          274   10395  2019-08-21 13:31:43      AUTO\n139         522   10396  2019-08-21 13:47:25        ON\n...         ...     ...                  ...       ...\n614724  2012220   10704  2019-11-19 12:35:53        ON\n614743  2012242   10395  2019-11-19 12:37:57      AUTO\n614785  2012296   10704  2019-11-19 12:41:54        ON\n614886  2012499   10395  2019-11-19 12:50:59        ON\n614897  2012576   10395  2019-11-19 12:53:41      AUTO\n\n[10195 rows x 4 columns]",
      "text/html": "<div>\n<style scoped>\n    .dataframe tbody tr th:only-of-type {\n        vertical-align: middle;\n    }\n\n    .dataframe tbody tr th {\n        vertical-align: top;\n    }\n\n    .dataframe thead th {\n        text-align: right;\n    }\n</style>\n<table border=\"1\" class=\"dataframe\">\n  <thead>\n    <tr style=\"text-align: right;\">\n      <th></th>\n      <th>Id</th>\n      <th>Machine</th>\n      <th>StatusTime</th>\n      <th>SubStatus</th>\n    </tr>\n  </thead>\n  <tbody>\n    <tr>\n      <th>74</th>\n      <td>227</td>\n      <td>10395</td>\n      <td>2019-08-21 13:29:05</td>\n      <td>ON</td>\n    </tr>\n    <tr>\n      <th>83</th>\n      <td>255</td>\n      <td>10395</td>\n      <td>2019-08-21 13:30:04</td>\n      <td>AUTO</td>\n    </tr>\n    <tr>\n      <th>85</th>\n      <td>267</td>\n      <td>10395</td>\n      <td>2019-08-21 13:30:24</td>\n      <td>ON</td>\n    </tr>\n    <tr>\n      <th>90</th>\n      <td>274</td>\n      <td>10395</td>\n      <td>2019-08-21 13:31:43</td>\n      <td>AUTO</td>\n    </tr>\n    <tr>\n      <th>139</th>\n      <td>522</td>\n      <td>10396</td>\n      <td>2019-08-21 13:47:25</td>\n      <td>ON</td>\n    </tr>\n    <tr>\n      <th>...</th>\n      <td>...</td>\n      <td>...</td>\n      <td>...</td>\n      <td>...</td>\n    </tr>\n    <tr>\n      <th>614724</th>\n      <td>2012220</td>\n      <td>10704</td>\n      <td>2019-11-19 12:35:53</td>\n      <td>ON</td>\n    </tr>\n    <tr>\n      <th>614743</th>\n      <td>2012242</td>\n      <td>10395</td>\n      <td>2019-11-19 12:37:57</td>\n      <td>AUTO</td>\n    </tr>\n    <tr>\n      <th>614785</th>\n      <td>2012296</td>\n      <td>10704</td>\n      <td>2019-11-19 12:41:54</td>\n      <td>ON</td>\n    </tr>\n    <tr>\n      <th>614886</th>\n      <td>2012499</td>\n      <td>10395</td>\n      <td>2019-11-19 12:50:59</td>\n      <td>ON</td>\n    </tr>\n    <tr>\n      <th>614897</th>\n      <td>2012576</td>\n      <td>10395</td>\n      <td>2019-11-19 12:53:41</td>\n      <td>AUTO</td>\n    </tr>\n  </tbody>\n</table>\n<p>10195 rows × 4 columns</p>\n</div>"
     },
     "metadata": {},
     "execution_count": 305
    }
   ],
   "source": [
    "df"
   ]
  },
  {
   "cell_type": "code",
   "execution_count": 306,
   "metadata": {},
   "outputs": [],
   "source": [
    "# Anomália kezelés 1: több START jön egymás után, akkor az ON érvényes, több AUTO jön egymás után, az utolsó az érvényes\n",
    "\n",
    "def anomaly_handle_1(list):\n",
    "    global anomaly_num\n",
    "    anomaly_num = 1\n",
    "\n",
    "    for j in range(len(list)):\n",
    "        for i in range(len(list[j])-1):\n",
    "            if(list[j]['SubStatus'].iloc[i] == 'ON' ):\n",
    "                if(list[j]['SubStatus'].iloc[i+1] == 'AUTO'):     \n",
    "                    list[j]['SubStatus'].iloc[i+1] = 'Anomaly'\n",
    "            elif(list[j]['SubStatus'].iloc[i] == 'Anomaly'):\n",
    "                if(list[j]['SubStatus'].iloc[i+1] == 'ON'):     \n",
    "                    list[j]['SubStatus'].iloc[i+1] = 'Anomaly'\n",
    "    for j in range(len(list)):\n",
    "        for i in range(len(list[j])-1):\n",
    "            if(list[j]['SubStatus'].iloc[i] == 'ON' ):\n",
    "                if(list[j]['SubStatus'].iloc[i+1] == 'ON'):     \n",
    "                    list[j]['SubStatus'].iloc[i] = 'Anomaly'"
   ]
  },
  {
   "cell_type": "code",
   "execution_count": 307,
   "metadata": {},
   "outputs": [],
   "source": [
    "# Anomália kezelés 2: több ON jön egymás után, akkor az UTOLSÓ érvényes, több AUTO jön egymás után, az utolsó az érvényes\n",
    "\n",
    "def anomaly_handle_2(list):\n",
    "    global anomaly_num\n",
    "    anomaly_num = 2\n",
    "\n",
    "    for j in range(len(list)):\n",
    "        for i in range(len(list[j])-1):\n",
    "            if(list[j]['SubStatus'].iloc[i] == 'ON' ):\n",
    "                if(list[j]['SubStatus'].iloc[i+1] == 'ON'):     \n",
    "                    list[j]['SubStatus'].iloc[i] = 'Anomaly'\n",
    "    for j in range(len(list)):\n",
    "        for i in range(len(list[j])-1):\n",
    "            if(list[j]['SubStatus'].iloc[i] == 'AUTO' ):\n",
    "                if(list[j]['SubStatus'].iloc[i+1] == 'AUTO'):     \n",
    "                    list[j]['SubStatus'].iloc[i] = 'Anomaly'"
   ]
  },
  {
   "cell_type": "code",
   "execution_count": 308,
   "metadata": {},
   "outputs": [],
   "source": [
    "anomaly_handle_2(list)"
   ]
  },
  {
   "cell_type": "code",
   "execution_count": 309,
   "metadata": {},
   "outputs": [
    {
     "output_type": "stream",
     "name": "stdout",
     "text": "ON: 785\nAUTO: 785\n"
    }
   ],
   "source": [
    "j = 0\n",
    "k = 0\n",
    "list_num = 7\n",
    "for i in range(len(list[list_num])):\n",
    "    if(list[list_num]['SubStatus'].iloc[i] == 'ON'):\n",
    "        j = j + 1\n",
    "    elif(list[list_num]['SubStatus'].iloc[i] == 'AUTO'):\n",
    "        k = k + 1\n",
    "\n",
    "print(\"ON: \" + str(j))\n",
    "print(\"AUTO: \" + str(k))"
   ]
  },
  {
   "cell_type": "code",
   "execution_count": 310,
   "metadata": {},
   "outputs": [],
   "source": [
    "list_anomaly = []\n",
    "\n",
    "for i in range(len(list)): \n",
    "    list_anomaly.insert(i, list[i]) "
   ]
  },
  {
   "cell_type": "code",
   "execution_count": 311,
   "metadata": {},
   "outputs": [],
   "source": [
    "for j in range(len(list)):\n",
    "    list[j] = list[j][list[j]['SubStatus']!='Anomaly']"
   ]
  },
  {
   "cell_type": "markdown",
   "metadata": {},
   "source": [
    "# idő hozzárendelése gépenként"
   ]
  },
  {
   "cell_type": "code",
   "execution_count": 312,
   "metadata": {},
   "outputs": [],
   "source": [
    "# on kell hogy kezdődjön és auto-val végződnie"
   ]
  },
  {
   "cell_type": "code",
   "execution_count": 313,
   "metadata": {},
   "outputs": [],
   "source": [
    "for i in range(len(list_anomaly)):\n",
    "    if(list_anomaly[i].iloc[0]['SubStatus'] != 'ON'):\n",
    "        list_anomaly[i] = list_anomaly[i].drop([list_anomaly[i].index[0]])\n",
    "    if(list_anomaly[i].iloc[len(list_anomaly[i]) - 1]['SubStatus'] != 'AUTO'):\n",
    "        list_anomaly[i] = list_anomaly[i].drop([list_anomaly[i].index[len(list_anomaly[i])-1]])\n",
    "    if(list_anomaly[i].iloc[len(list_anomaly[i]) - 1]['SubStatus'] == 'Anomaly'):\n",
    "        list_anomaly[i] = list_anomaly[i].drop([list_anomaly[i].index[len(list_anomaly[i])-1]])\n",
    "\n",
    "for i in range(len(list)):\n",
    "    if(list[i].iloc[0]['SubStatus'] != 'ON'):\n",
    "        list[i] = list[i].drop([list[i].index[0]])\n",
    "    if(list[i].iloc[len(list[i]) - 1]['SubStatus'] != 'AUTO'):\n",
    "        list[i] = list[i].drop([list[i].index[len(list[i])-1]])"
   ]
  },
  {
   "cell_type": "code",
   "execution_count": 314,
   "metadata": {},
   "outputs": [],
   "source": [
    "list_anomaly[1] = list_anomaly[1].drop([614601,613226,613219,614681])"
   ]
  },
  {
   "cell_type": "code",
   "execution_count": 315,
   "metadata": {},
   "outputs": [],
   "source": [
    "from datetime import datetime, timedelta"
   ]
  },
  {
   "cell_type": "code",
   "execution_count": 316,
   "metadata": {},
   "outputs": [],
   "source": [
    "def timeInManualyWorking(list): \n",
    "    for j in range(len(list)):    \n",
    "        list[j]['timeInManualyWorking'] = timedelta(0)\n",
    "        for i in range(len(list[j])-1)[0::2]:\n",
    "            timeACTIVE_Str = list[j]['StatusTime'].iloc[i]\n",
    "            timeEND_Str = list[j]['StatusTime'].iloc[i+1]\n",
    "            timeStart = datetime.strptime(timeACTIVE_Str,'%Y-%m-%d %H:%M:%S')\n",
    "            timeEND = datetime.strptime(timeEND_Str,'%Y-%m-%d %H:%M:%S')\n",
    "            list[j]['timeInManualyWorking'].iloc[i+1] = timeEND-timeStart"
   ]
  },
  {
   "cell_type": "code",
   "execution_count": 317,
   "metadata": {},
   "outputs": [],
   "source": [
    "def timeInAutoWorking(list): \n",
    "    for j in range(len(list)):\n",
    "        list[j]['timeInAutoWorking'] = timedelta(0)\n",
    "        for i in range(len(list[j])-1)[1::2]:\n",
    "            timeACTIVE_Str = list[j]['StatusTime'].iloc[i]\n",
    "            timeEND_Str = list[j]['StatusTime'].iloc[i+1]\n",
    "            timeStart = datetime.strptime(timeACTIVE_Str,'%Y-%m-%d %H:%M:%S')\n",
    "            timeEND = datetime.strptime(timeEND_Str,'%Y-%m-%d %H:%M:%S')\n",
    "            list[j]['timeInAutoWorking'].iloc[i+1] = timeEND-timeStart"
   ]
  },
  {
   "cell_type": "code",
   "execution_count": 318,
   "metadata": {},
   "outputs": [],
   "source": [
    "def timeInAnomaly(list):\n",
    "    for j in range(len(list)):\n",
    "        list[j]['timeInAnomaly'] = timedelta(0)\n",
    "\n",
    "        i = 0\n",
    "        while(i <= len(list[j])-1):\n",
    "            if(list[j]['SubStatus'].iloc[i] == 'Anomaly' ):\n",
    "                anomalyStart_Str = list[j]['StatusTime'].iloc[i]\n",
    "                #ameddig anomália jön, addig megyünk\n",
    "                k = 1\n",
    "                while list[j]['SubStatus'].iloc[k + i] == 'Anomaly':\n",
    "                    k = k + 1\n",
    "\n",
    "                if(k == 1):\n",
    "                    i += 1\n",
    "                    pass\n",
    "                else:\n",
    "                    anomalyEND_Str = list[j]['StatusTime'].iloc[i + k]\n",
    "                    timeStart = datetime.strptime(anomalyStart_Str,'%Y-%m-%d %H:%M:%S')\n",
    "                    timeEND = datetime.strptime(anomalyEND_Str,'%Y-%m-%d %H:%M:%S')\n",
    "                    list[j]['timeInAnomaly'].iloc[i + k] = timeEND-timeStart  \n",
    "                    i = i + k\n",
    "                    k = 1\n",
    "            else:\n",
    "                i += 1 "
   ]
  },
  {
   "cell_type": "code",
   "execution_count": 319,
   "metadata": {
    "tags": [
     "outputPrepend",
     "outputPrepend",
     "outputPrepend",
     "outputPrepend",
     "outputPrepend",
     "outputPrepend",
     "outputPrepend",
     "outputPrepend",
     "outputPrepend",
     "outputPrepend",
     "outputPrepend",
     "outputPrepend",
     "outputPrepend",
     "outputPrepend",
     "outputPrepend"
    ]
   },
   "outputs": [],
   "source": [
    "timeInManualyWorking(list)\n",
    "timeInAutoWorking(list)"
   ]
  },
  {
   "cell_type": "code",
   "execution_count": 320,
   "metadata": {},
   "outputs": [],
   "source": [
    "timeInAnomaly(list_anomaly)"
   ]
  },
  {
   "cell_type": "code",
   "execution_count": 321,
   "metadata": {},
   "outputs": [
    {
     "output_type": "stream",
     "name": "stdout",
     "text": "manually working time  autoamata working time   all time sum of the machine\n\n11 days 16:07:38       77 days 23:12:24         89 days 15:20:02\n24 days 16:54:50       64 days 22:49:43         89 days 15:44:33\n44 days 05:40:56       45 days 11:24:11         89 days 17:05:07\n18 days 01:53:36       35 days 14:24:00         53 days 16:17:36\n34 days 08:55:07       55 days 14:29:29         89 days 23:24:36\n26 days 17:06:29       62 days 22:36:00         89 days 15:42:29\n25 days 05:20:32       64 days 08:55:29         89 days 14:16:01\n6 days 07:57:08       83 days 14:41:03         89 days 22:38:11\n"
    }
   ],
   "source": [
    "print('manually working time','','autoamata working time',' ','all time sum of the machine')\n",
    "print('')\n",
    "for i in range(len(list)):\n",
    "    print(list[i]['timeInManualyWorking'].sum(),'     ', list[i]['timeInAutoWorking'].sum(),'       ',list[i]['timeInManualyWorking'].sum()+list[i]['timeInAutoWorking'].sum())"
   ]
  },
  {
   "cell_type": "code",
   "execution_count": 322,
   "metadata": {},
   "outputs": [
    {
     "output_type": "stream",
     "name": "stdout",
     "text": "1 számú gép:  0 days 20:43:11\n2 számú gép:  16 days 01:59:34\n3 számú gép:  3 days 16:56:11\n4 számú gép:  3 days 23:12:45\n5 számú gép:  14 days 07:11:31\n6 számú gép:  13 days 14:21:19\n7 számú gép:  11 days 16:05:54\n8 számú gép:  0 days 03:23:21\n"
    }
   ],
   "source": [
    "for i in range(len(list_anomaly)):\n",
    "    print(str(i+1) + \" számú gép: \",list_anomaly[i]['timeInAnomaly'].sum())"
   ]
  },
  {
   "cell_type": "code",
   "execution_count": 323,
   "metadata": {},
   "outputs": [],
   "source": [
    "for i in range(len(list_anomaly)-1):\n",
    "    del list_anomaly[i]['Machine']\n",
    "    del list_anomaly[i]['StatusTime']\n",
    "    del list_anomaly[i]['SubStatus']"
   ]
  },
  {
   "cell_type": "code",
   "execution_count": 324,
   "metadata": {},
   "outputs": [],
   "source": [
    "list_new = []\n",
    "for i in range(len(list)-1):\n",
    "    list_new.append(pd.merge(list[i], list_anomaly[i], left_on='Id', right_on='Id', how='left'))"
   ]
  },
  {
   "cell_type": "code",
   "execution_count": 325,
   "metadata": {},
   "outputs": [],
   "source": [
    "df = pd.concat(list_new)"
   ]
  },
  {
   "cell_type": "code",
   "execution_count": 326,
   "metadata": {},
   "outputs": [
    {
     "output_type": "execute_result",
     "data": {
      "text/plain": "           Id Machine           StatusTime SubStatus timeInManualyWorking  \\\n0        4671   10449  2019-08-21 17:39:56        ON             00:00:00   \n1        4902   10449  2019-08-21 17:55:22      AUTO             00:15:26   \n2       21373   10449  2019-08-22 10:05:40        ON             00:00:00   \n3       21381   10449  2019-08-22 10:05:59      AUTO             00:00:19   \n4       23575   10449  2019-08-22 12:04:12        ON             00:00:00   \n...       ...     ...                  ...       ...                  ...   \n1371  1998958   10419  2019-11-19 00:45:19      AUTO             00:05:21   \n1372  2003879   10419  2019-11-19 04:00:30        ON             00:00:00   \n1373  2004218   10419  2019-11-19 04:11:13      AUTO             00:10:43   \n1374  2004844   10419  2019-11-19 04:38:04        ON             00:00:00   \n1375  2004863   10419  2019-11-19 04:39:03      AUTO             00:00:59   \n\n     timeInAutoWorking timeInAnomaly  \n0             00:00:00        0 days  \n1             00:00:00        0 days  \n2             16:10:18        0 days  \n3             00:00:00        0 days  \n4             01:58:13        0 days  \n...                ...           ...  \n1371          00:00:00        0 days  \n1372          03:15:11        0 days  \n1373          00:00:00        0 days  \n1374          00:26:51        0 days  \n1375          00:00:00        0 days  \n\n[7428 rows x 7 columns]",
      "text/html": "<div>\n<style scoped>\n    .dataframe tbody tr th:only-of-type {\n        vertical-align: middle;\n    }\n\n    .dataframe tbody tr th {\n        vertical-align: top;\n    }\n\n    .dataframe thead th {\n        text-align: right;\n    }\n</style>\n<table border=\"1\" class=\"dataframe\">\n  <thead>\n    <tr style=\"text-align: right;\">\n      <th></th>\n      <th>Id</th>\n      <th>Machine</th>\n      <th>StatusTime</th>\n      <th>SubStatus</th>\n      <th>timeInManualyWorking</th>\n      <th>timeInAutoWorking</th>\n      <th>timeInAnomaly</th>\n    </tr>\n  </thead>\n  <tbody>\n    <tr>\n      <th>0</th>\n      <td>4671</td>\n      <td>10449</td>\n      <td>2019-08-21 17:39:56</td>\n      <td>ON</td>\n      <td>00:00:00</td>\n      <td>00:00:00</td>\n      <td>0 days</td>\n    </tr>\n    <tr>\n      <th>1</th>\n      <td>4902</td>\n      <td>10449</td>\n      <td>2019-08-21 17:55:22</td>\n      <td>AUTO</td>\n      <td>00:15:26</td>\n      <td>00:00:00</td>\n      <td>0 days</td>\n    </tr>\n    <tr>\n      <th>2</th>\n      <td>21373</td>\n      <td>10449</td>\n      <td>2019-08-22 10:05:40</td>\n      <td>ON</td>\n      <td>00:00:00</td>\n      <td>16:10:18</td>\n      <td>0 days</td>\n    </tr>\n    <tr>\n      <th>3</th>\n      <td>21381</td>\n      <td>10449</td>\n      <td>2019-08-22 10:05:59</td>\n      <td>AUTO</td>\n      <td>00:00:19</td>\n      <td>00:00:00</td>\n      <td>0 days</td>\n    </tr>\n    <tr>\n      <th>4</th>\n      <td>23575</td>\n      <td>10449</td>\n      <td>2019-08-22 12:04:12</td>\n      <td>ON</td>\n      <td>00:00:00</td>\n      <td>01:58:13</td>\n      <td>0 days</td>\n    </tr>\n    <tr>\n      <th>...</th>\n      <td>...</td>\n      <td>...</td>\n      <td>...</td>\n      <td>...</td>\n      <td>...</td>\n      <td>...</td>\n      <td>...</td>\n    </tr>\n    <tr>\n      <th>1371</th>\n      <td>1998958</td>\n      <td>10419</td>\n      <td>2019-11-19 00:45:19</td>\n      <td>AUTO</td>\n      <td>00:05:21</td>\n      <td>00:00:00</td>\n      <td>0 days</td>\n    </tr>\n    <tr>\n      <th>1372</th>\n      <td>2003879</td>\n      <td>10419</td>\n      <td>2019-11-19 04:00:30</td>\n      <td>ON</td>\n      <td>00:00:00</td>\n      <td>03:15:11</td>\n      <td>0 days</td>\n    </tr>\n    <tr>\n      <th>1373</th>\n      <td>2004218</td>\n      <td>10419</td>\n      <td>2019-11-19 04:11:13</td>\n      <td>AUTO</td>\n      <td>00:10:43</td>\n      <td>00:00:00</td>\n      <td>0 days</td>\n    </tr>\n    <tr>\n      <th>1374</th>\n      <td>2004844</td>\n      <td>10419</td>\n      <td>2019-11-19 04:38:04</td>\n      <td>ON</td>\n      <td>00:00:00</td>\n      <td>00:26:51</td>\n      <td>0 days</td>\n    </tr>\n    <tr>\n      <th>1375</th>\n      <td>2004863</td>\n      <td>10419</td>\n      <td>2019-11-19 04:39:03</td>\n      <td>AUTO</td>\n      <td>00:00:59</td>\n      <td>00:00:00</td>\n      <td>0 days</td>\n    </tr>\n  </tbody>\n</table>\n<p>7428 rows × 7 columns</p>\n</div>"
     },
     "metadata": {},
     "execution_count": 326
    }
   ],
   "source": [
    "df"
   ]
  },
  {
   "cell_type": "code",
   "execution_count": 327,
   "metadata": {},
   "outputs": [],
   "source": [
    "import os\n",
    "from datetime import datetime as dt\n",
    "import datetime\n",
    "import pytz, time\n",
    "import gc\n",
    "\n",
    "os.environ['TZ'] = 'Europe/Budpest'\n",
    "CET = pytz.timezone('Europe/Budapest')"
   ]
  },
  {
   "cell_type": "code",
   "execution_count": 328,
   "metadata": {},
   "outputs": [
    {
     "output_type": "execute_result",
     "data": {
      "text/plain": "           Id Machine           StatusTime SubStatus timeInManualyWorking  \\\n0        4671   10449  2019-08-21 17:39:56        ON             00:00:00   \n1        4902   10449  2019-08-21 17:55:22      AUTO             00:15:26   \n2       21373   10449  2019-08-22 10:05:40        ON             00:00:00   \n3       21381   10449  2019-08-22 10:05:59      AUTO             00:00:19   \n4       23575   10449  2019-08-22 12:04:12        ON             00:00:00   \n...       ...     ...                  ...       ...                  ...   \n1371  1998958   10419  2019-11-19 00:45:19      AUTO             00:05:21   \n1372  2003879   10419  2019-11-19 04:00:30        ON             00:00:00   \n1373  2004218   10419  2019-11-19 04:11:13      AUTO             00:10:43   \n1374  2004844   10419  2019-11-19 04:38:04        ON             00:00:00   \n1375  2004863   10419  2019-11-19 04:39:03      AUTO             00:00:59   \n\n     timeInAutoWorking timeInAnomaly  \n0             00:00:00        0 days  \n1             00:00:00        0 days  \n2             16:10:18        0 days  \n3             00:00:00        0 days  \n4             01:58:13        0 days  \n...                ...           ...  \n1371          00:00:00        0 days  \n1372          03:15:11        0 days  \n1373          00:00:00        0 days  \n1374          00:26:51        0 days  \n1375          00:00:00        0 days  \n\n[7428 rows x 7 columns]",
      "text/html": "<div>\n<style scoped>\n    .dataframe tbody tr th:only-of-type {\n        vertical-align: middle;\n    }\n\n    .dataframe tbody tr th {\n        vertical-align: top;\n    }\n\n    .dataframe thead th {\n        text-align: right;\n    }\n</style>\n<table border=\"1\" class=\"dataframe\">\n  <thead>\n    <tr style=\"text-align: right;\">\n      <th></th>\n      <th>Id</th>\n      <th>Machine</th>\n      <th>StatusTime</th>\n      <th>SubStatus</th>\n      <th>timeInManualyWorking</th>\n      <th>timeInAutoWorking</th>\n      <th>timeInAnomaly</th>\n    </tr>\n  </thead>\n  <tbody>\n    <tr>\n      <th>0</th>\n      <td>4671</td>\n      <td>10449</td>\n      <td>2019-08-21 17:39:56</td>\n      <td>ON</td>\n      <td>00:00:00</td>\n      <td>00:00:00</td>\n      <td>0 days</td>\n    </tr>\n    <tr>\n      <th>1</th>\n      <td>4902</td>\n      <td>10449</td>\n      <td>2019-08-21 17:55:22</td>\n      <td>AUTO</td>\n      <td>00:15:26</td>\n      <td>00:00:00</td>\n      <td>0 days</td>\n    </tr>\n    <tr>\n      <th>2</th>\n      <td>21373</td>\n      <td>10449</td>\n      <td>2019-08-22 10:05:40</td>\n      <td>ON</td>\n      <td>00:00:00</td>\n      <td>16:10:18</td>\n      <td>0 days</td>\n    </tr>\n    <tr>\n      <th>3</th>\n      <td>21381</td>\n      <td>10449</td>\n      <td>2019-08-22 10:05:59</td>\n      <td>AUTO</td>\n      <td>00:00:19</td>\n      <td>00:00:00</td>\n      <td>0 days</td>\n    </tr>\n    <tr>\n      <th>4</th>\n      <td>23575</td>\n      <td>10449</td>\n      <td>2019-08-22 12:04:12</td>\n      <td>ON</td>\n      <td>00:00:00</td>\n      <td>01:58:13</td>\n      <td>0 days</td>\n    </tr>\n    <tr>\n      <th>...</th>\n      <td>...</td>\n      <td>...</td>\n      <td>...</td>\n      <td>...</td>\n      <td>...</td>\n      <td>...</td>\n      <td>...</td>\n    </tr>\n    <tr>\n      <th>1371</th>\n      <td>1998958</td>\n      <td>10419</td>\n      <td>2019-11-19 00:45:19</td>\n      <td>AUTO</td>\n      <td>00:05:21</td>\n      <td>00:00:00</td>\n      <td>0 days</td>\n    </tr>\n    <tr>\n      <th>1372</th>\n      <td>2003879</td>\n      <td>10419</td>\n      <td>2019-11-19 04:00:30</td>\n      <td>ON</td>\n      <td>00:00:00</td>\n      <td>03:15:11</td>\n      <td>0 days</td>\n    </tr>\n    <tr>\n      <th>1373</th>\n      <td>2004218</td>\n      <td>10419</td>\n      <td>2019-11-19 04:11:13</td>\n      <td>AUTO</td>\n      <td>00:10:43</td>\n      <td>00:00:00</td>\n      <td>0 days</td>\n    </tr>\n    <tr>\n      <th>1374</th>\n      <td>2004844</td>\n      <td>10419</td>\n      <td>2019-11-19 04:38:04</td>\n      <td>ON</td>\n      <td>00:00:00</td>\n      <td>00:26:51</td>\n      <td>0 days</td>\n    </tr>\n    <tr>\n      <th>1375</th>\n      <td>2004863</td>\n      <td>10419</td>\n      <td>2019-11-19 04:39:03</td>\n      <td>AUTO</td>\n      <td>00:00:59</td>\n      <td>00:00:00</td>\n      <td>0 days</td>\n    </tr>\n  </tbody>\n</table>\n<p>7428 rows × 7 columns</p>\n</div>"
     },
     "metadata": {},
     "execution_count": 328
    }
   ],
   "source": [
    "df"
   ]
  },
  {
   "cell_type": "code",
   "execution_count": 329,
   "metadata": {},
   "outputs": [
    {
     "output_type": "execute_result",
     "data": {
      "text/plain": "                            Id Machine SubStatus timeInManualyWorking  \\\nStatusTime                                                              \n2019-08-21 13:29:05+02:00  227   10395        ON             00:00:00   \n2019-08-21 13:30:04+02:00  255   10395      AUTO             00:00:59   \n2019-08-21 13:30:24+02:00  267   10395        ON             00:00:00   \n2019-08-21 13:31:43+02:00  274   10395      AUTO             00:01:19   \n2019-08-21 13:56:16+02:00  632   10460        ON             00:00:00   \n\n                          timeInAutoWorking timeInAnomaly  \nStatusTime                                                 \n2019-08-21 13:29:05+02:00          00:00:00        0 days  \n2019-08-21 13:30:04+02:00          00:00:00        0 days  \n2019-08-21 13:30:24+02:00          00:00:20        0 days  \n2019-08-21 13:31:43+02:00          00:00:00        0 days  \n2019-08-21 13:56:16+02:00          00:00:00        0 days  ",
      "text/html": "<div>\n<style scoped>\n    .dataframe tbody tr th:only-of-type {\n        vertical-align: middle;\n    }\n\n    .dataframe tbody tr th {\n        vertical-align: top;\n    }\n\n    .dataframe thead th {\n        text-align: right;\n    }\n</style>\n<table border=\"1\" class=\"dataframe\">\n  <thead>\n    <tr style=\"text-align: right;\">\n      <th></th>\n      <th>Id</th>\n      <th>Machine</th>\n      <th>SubStatus</th>\n      <th>timeInManualyWorking</th>\n      <th>timeInAutoWorking</th>\n      <th>timeInAnomaly</th>\n    </tr>\n    <tr>\n      <th>StatusTime</th>\n      <th></th>\n      <th></th>\n      <th></th>\n      <th></th>\n      <th></th>\n      <th></th>\n    </tr>\n  </thead>\n  <tbody>\n    <tr>\n      <th>2019-08-21 13:29:05+02:00</th>\n      <td>227</td>\n      <td>10395</td>\n      <td>ON</td>\n      <td>00:00:00</td>\n      <td>00:00:00</td>\n      <td>0 days</td>\n    </tr>\n    <tr>\n      <th>2019-08-21 13:30:04+02:00</th>\n      <td>255</td>\n      <td>10395</td>\n      <td>AUTO</td>\n      <td>00:00:59</td>\n      <td>00:00:00</td>\n      <td>0 days</td>\n    </tr>\n    <tr>\n      <th>2019-08-21 13:30:24+02:00</th>\n      <td>267</td>\n      <td>10395</td>\n      <td>ON</td>\n      <td>00:00:00</td>\n      <td>00:00:20</td>\n      <td>0 days</td>\n    </tr>\n    <tr>\n      <th>2019-08-21 13:31:43+02:00</th>\n      <td>274</td>\n      <td>10395</td>\n      <td>AUTO</td>\n      <td>00:01:19</td>\n      <td>00:00:00</td>\n      <td>0 days</td>\n    </tr>\n    <tr>\n      <th>2019-08-21 13:56:16+02:00</th>\n      <td>632</td>\n      <td>10460</td>\n      <td>ON</td>\n      <td>00:00:00</td>\n      <td>00:00:00</td>\n      <td>0 days</td>\n    </tr>\n  </tbody>\n</table>\n</div>"
     },
     "metadata": {},
     "execution_count": 329
    }
   ],
   "source": [
    "#df = df[['Id', 'Machine', 'StatusTime', 'Status', 'SubStatus']]\n",
    "df = df[['Id', 'Machine', 'StatusTime', 'SubStatus', 'timeInManualyWorking', 'timeInAutoWorking', 'timeInAnomaly']]\n",
    "df = df.astype({'StatusTime' : 'datetime64'})\n",
    "df.index = df.StatusTime\n",
    "df.index = df.index.tz_localize('Europe/Budapest')\n",
    "df = df.drop(columns='StatusTime')\n",
    "df.sort_values(inplace=True, axis='index', by='StatusTime')\n",
    "df.head()"
   ]
  },
  {
   "cell_type": "code",
   "execution_count": 330,
   "metadata": {},
   "outputs": [],
   "source": [
    "df['ts_auto'] = 0\n",
    "for i in range(len(df)):\n",
    "    df['ts_auto'].iloc[i] = df['timeInAutoWorking'].iloc[i].total_seconds() / 3600"
   ]
  },
  {
   "cell_type": "code",
   "execution_count": 331,
   "metadata": {},
   "outputs": [],
   "source": [
    "df['ts_man'] = 0\n",
    "for i in range(len(df)):\n",
    "    df['ts_man'].iloc[i] = df['timeInManualyWorking'].iloc[i].total_seconds() / 3600"
   ]
  },
  {
   "cell_type": "code",
   "execution_count": 332,
   "metadata": {},
   "outputs": [],
   "source": [
    "df['ts_anom'] = 0\n",
    "for i in range(len(df)):\n",
    "    df['ts_anom'].iloc[i] = df['timeInAnomaly'].iloc[i].total_seconds() / 3600"
   ]
  },
  {
   "cell_type": "code",
   "execution_count": 333,
   "metadata": {},
   "outputs": [
    {
     "output_type": "execute_result",
     "data": {
      "text/plain": "                                Id Machine SubStatus   ts_auto    ts_man  \\\nStatusTime                                                                 \n2019-08-21 13:29:05+02:00      227   10395        ON  0.000000  0.000000   \n2019-08-21 13:30:04+02:00      255   10395      AUTO  0.000000  0.016389   \n2019-08-21 13:30:24+02:00      267   10395        ON  0.005556  0.000000   \n2019-08-21 13:31:43+02:00      274   10395      AUTO  0.000000  0.021944   \n2019-08-21 13:56:16+02:00      632   10460        ON  0.000000  0.000000   \n...                            ...     ...       ...       ...       ...   \n2019-11-19 12:27:55+01:00  2012148   10395      AUTO  0.000000  0.044167   \n2019-11-19 12:34:56+01:00  2012204   10395        ON  0.116944  0.000000   \n2019-11-19 12:37:57+01:00  2012242   10395      AUTO  0.000000  0.050278   \n2019-11-19 12:50:59+01:00  2012499   10395        ON  0.217222  0.000000   \n2019-11-19 12:53:41+01:00  2012576   10395      AUTO  0.000000  0.045000   \n\n                           ts_anom  \nStatusTime                          \n2019-08-21 13:29:05+02:00      0.0  \n2019-08-21 13:30:04+02:00      0.0  \n2019-08-21 13:30:24+02:00      0.0  \n2019-08-21 13:31:43+02:00      0.0  \n2019-08-21 13:56:16+02:00      0.0  \n...                            ...  \n2019-11-19 12:27:55+01:00      0.0  \n2019-11-19 12:34:56+01:00      0.0  \n2019-11-19 12:37:57+01:00      0.0  \n2019-11-19 12:50:59+01:00      0.0  \n2019-11-19 12:53:41+01:00      0.0  \n\n[7428 rows x 6 columns]",
      "text/html": "<div>\n<style scoped>\n    .dataframe tbody tr th:only-of-type {\n        vertical-align: middle;\n    }\n\n    .dataframe tbody tr th {\n        vertical-align: top;\n    }\n\n    .dataframe thead th {\n        text-align: right;\n    }\n</style>\n<table border=\"1\" class=\"dataframe\">\n  <thead>\n    <tr style=\"text-align: right;\">\n      <th></th>\n      <th>Id</th>\n      <th>Machine</th>\n      <th>SubStatus</th>\n      <th>ts_auto</th>\n      <th>ts_man</th>\n      <th>ts_anom</th>\n    </tr>\n    <tr>\n      <th>StatusTime</th>\n      <th></th>\n      <th></th>\n      <th></th>\n      <th></th>\n      <th></th>\n      <th></th>\n    </tr>\n  </thead>\n  <tbody>\n    <tr>\n      <th>2019-08-21 13:29:05+02:00</th>\n      <td>227</td>\n      <td>10395</td>\n      <td>ON</td>\n      <td>0.000000</td>\n      <td>0.000000</td>\n      <td>0.0</td>\n    </tr>\n    <tr>\n      <th>2019-08-21 13:30:04+02:00</th>\n      <td>255</td>\n      <td>10395</td>\n      <td>AUTO</td>\n      <td>0.000000</td>\n      <td>0.016389</td>\n      <td>0.0</td>\n    </tr>\n    <tr>\n      <th>2019-08-21 13:30:24+02:00</th>\n      <td>267</td>\n      <td>10395</td>\n      <td>ON</td>\n      <td>0.005556</td>\n      <td>0.000000</td>\n      <td>0.0</td>\n    </tr>\n    <tr>\n      <th>2019-08-21 13:31:43+02:00</th>\n      <td>274</td>\n      <td>10395</td>\n      <td>AUTO</td>\n      <td>0.000000</td>\n      <td>0.021944</td>\n      <td>0.0</td>\n    </tr>\n    <tr>\n      <th>2019-08-21 13:56:16+02:00</th>\n      <td>632</td>\n      <td>10460</td>\n      <td>ON</td>\n      <td>0.000000</td>\n      <td>0.000000</td>\n      <td>0.0</td>\n    </tr>\n    <tr>\n      <th>...</th>\n      <td>...</td>\n      <td>...</td>\n      <td>...</td>\n      <td>...</td>\n      <td>...</td>\n      <td>...</td>\n    </tr>\n    <tr>\n      <th>2019-11-19 12:27:55+01:00</th>\n      <td>2012148</td>\n      <td>10395</td>\n      <td>AUTO</td>\n      <td>0.000000</td>\n      <td>0.044167</td>\n      <td>0.0</td>\n    </tr>\n    <tr>\n      <th>2019-11-19 12:34:56+01:00</th>\n      <td>2012204</td>\n      <td>10395</td>\n      <td>ON</td>\n      <td>0.116944</td>\n      <td>0.000000</td>\n      <td>0.0</td>\n    </tr>\n    <tr>\n      <th>2019-11-19 12:37:57+01:00</th>\n      <td>2012242</td>\n      <td>10395</td>\n      <td>AUTO</td>\n      <td>0.000000</td>\n      <td>0.050278</td>\n      <td>0.0</td>\n    </tr>\n    <tr>\n      <th>2019-11-19 12:50:59+01:00</th>\n      <td>2012499</td>\n      <td>10395</td>\n      <td>ON</td>\n      <td>0.217222</td>\n      <td>0.000000</td>\n      <td>0.0</td>\n    </tr>\n    <tr>\n      <th>2019-11-19 12:53:41+01:00</th>\n      <td>2012576</td>\n      <td>10395</td>\n      <td>AUTO</td>\n      <td>0.000000</td>\n      <td>0.045000</td>\n      <td>0.0</td>\n    </tr>\n  </tbody>\n</table>\n<p>7428 rows × 6 columns</p>\n</div>"
     },
     "metadata": {},
     "execution_count": 333
    }
   ],
   "source": [
    "del df['timeInManualyWorking']\n",
    "del df['timeInAutoWorking']\n",
    "del df['timeInAnomaly']\n",
    "df"
   ]
  },
  {
   "cell_type": "markdown",
   "metadata": {},
   "source": [
    "df.to_csv('nc_status_2.csv', sep=\";\")"
   ]
  },
  {
   "cell_type": "code",
   "execution_count": 334,
   "metadata": {},
   "outputs": [
    {
     "output_type": "execute_result",
     "data": {
      "text/plain": "defaultdict(list,\n            {'jog_mode':                           Machine SubStatus  ts_anom   ts_auto    ts_man\n             2019-08-21 11:29:05+00:00   10395        ON      0.0  0.000000  0.000000\n             2019-08-21 11:30:04+00:00   10395      AUTO      0.0  0.000000  0.016389\n             2019-08-21 11:30:24+00:00   10395        ON      0.0  0.005556  0.000000\n             2019-08-21 11:31:43+00:00   10395      AUTO      0.0  0.000000  0.021944\n             2019-08-21 11:56:16+00:00   10460        ON      0.0  0.000000  0.000000\n             ...                           ...       ...      ...       ...       ...\n             2019-11-19 11:27:55+00:00   10395      AUTO      0.0  0.000000  0.044167\n             2019-11-19 11:34:56+00:00   10395        ON      0.0  0.116944  0.000000\n             2019-11-19 11:37:57+00:00   10395      AUTO      0.0  0.000000  0.050278\n             2019-11-19 11:50:59+00:00   10395        ON      0.0  0.217222  0.000000\n             2019-11-19 11:53:41+00:00   10395      AUTO      0.0  0.000000  0.045000\n             \n             [7428 rows x 5 columns]})"
     },
     "metadata": {},
     "execution_count": 334
    }
   ],
   "source": [
    "import influxdb\n",
    "\n",
    "# The data export can be significantly accelerated by appropriate batch_size\n",
    "\n",
    "client = influxdb.DataFrameClient(host='152.66.34.82', port=8086)\n",
    "client.switch_database('knorr')\n",
    "client.query(query='DROP MEASUREMENT \"jog_mode\"', database='knorr')\n",
    "client.write_points(df, database='knorr', measurement='jog_mode', tag_columns=['Machine', 'SubStatus'], field_columns=['ts_auto','ts_man','ts_anom'], time_precision='ms', batch_size=10000, protocol='line')\n",
    "client.query(query='SELECT * FROM jog_mode', database='knorr')"
   ]
  }
 ],
 "metadata": {
  "kernelspec": {
   "display_name": "Python 3.7.3 64-bit ('anaconda3': virtualenv)",
   "language": "python",
   "name": "python37364bitanaconda3virtualenvf298a04dab3e493999cb12b49f5694ff"
  },
  "language_info": {
   "codemirror_mode": {
    "name": "ipython",
    "version": 3
   },
   "file_extension": ".py",
   "mimetype": "text/x-python",
   "name": "python",
   "nbconvert_exporter": "python",
   "pygments_lexer": "ipython3",
   "version": "3.7.3-final"
  }
 },
 "nbformat": 4,
 "nbformat_minor": 2
}
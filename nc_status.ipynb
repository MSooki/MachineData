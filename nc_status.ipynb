{
 "cells": [
  {
   "cell_type": "markdown",
   "metadata": {},
   "source": [
    "# NC adatelemzés"
   ]
  },
  {
   "cell_type": "code",
   "execution_count": 57,
   "metadata": {},
   "outputs": [],
   "source": [
    "import pandas as pd\n",
    "import numpy as np\n",
    "import matplotlib.pyplot as plt\n",
    "%matplotlib inline\n",
    "anomaly_num = 0"
   ]
  },
  {
   "cell_type": "code",
   "execution_count": 58,
   "metadata": {},
   "outputs": [],
   "source": [
    "df = pd.read_csv(\"PLC_NBH170.csv\", sep=\";\")"
   ]
  },
  {
   "cell_type": "code",
   "execution_count": 59,
   "metadata": {},
   "outputs": [],
   "source": [
    "def switch(i):\n",
    "    switcher = {\n",
    "        'KBBUD10449-NBH170-PLCStationThing': \"10449\",\n",
    "        'KBBUD10704-NBH170-PLCStationThing': \"10704\",\n",
    "        'KBBUD10469-NBH170-PLCStationThing': \"10469\",\n",
    "        'KBBUD10460-NBH170-PLCStationThing': \"10460\",\n",
    "        'KBBUD10395-NBH170-PLCStationThing': \"10395\",\n",
    "        'KBBUD10424-NBH170-PLCStationThing': \"10424\",\n",
    "        'KBBUD10419-NBH170-PLCStationThing': \"10419\",\n",
    "        'KBBUD10396-NBH170-PLCStationThing': \"10396\"\n",
    "        \n",
    "    }\n",
    "    return switcher.get(i,\"invalid\")"
   ]
  },
  {
   "cell_type": "code",
   "execution_count": 60,
   "metadata": {},
   "outputs": [],
   "source": [
    "df['Machine'] = df['Machine'].apply(lambda x: switch(x))\n",
    "df['StatusTime'] = df['StatusTime'].apply(lambda x: x[:-4])\n",
    "\n",
    "del df['StatusType']\n",
    "del df['description']\n",
    "del df['CreationTime']"
   ]
  },
  {
   "cell_type": "markdown",
   "metadata": {},
   "source": [
    "# NC Státuszok"
   ]
  },
  {
   "cell_type": "code",
   "execution_count": 61,
   "metadata": {},
   "outputs": [],
   "source": [
    "df = df[df['Status']=='NC']\n",
    "del df['Status']\n",
    "df = df.sort_values(by='StatusTime')"
   ]
  },
  {
   "cell_type": "code",
   "execution_count": 62,
   "metadata": {},
   "outputs": [
    {
     "output_type": "execute_result",
     "data": {
      "text/plain": "             Id Machine           StatusTime SubStatus\n29          115   10395  2019-08-21 13:24:50      STOP\n45          145   10460  2019-08-21 13:25:49     START\n50          156   10460  2019-08-21 13:26:09      STOP\n82          254   10395  2019-08-21 13:30:04     START\n93          280   10395  2019-08-21 13:32:02      STOP\n...         ...     ...                  ...       ...\n615021  2012959   10395  2019-11-19 13:09:43      STOP\n615025  2012981   10395  2019-11-19 13:11:03     START\n615040  2013109   10469  2019-11-19 13:16:41      STOP\n615042  2013113   10419  2019-11-19 13:16:46     START\n615047  2013121   10469  2019-11-19 13:17:42     START\n\n[33833 rows x 4 columns]",
      "text/html": "<div>\n<style scoped>\n    .dataframe tbody tr th:only-of-type {\n        vertical-align: middle;\n    }\n\n    .dataframe tbody tr th {\n        vertical-align: top;\n    }\n\n    .dataframe thead th {\n        text-align: right;\n    }\n</style>\n<table border=\"1\" class=\"dataframe\">\n  <thead>\n    <tr style=\"text-align: right;\">\n      <th></th>\n      <th>Id</th>\n      <th>Machine</th>\n      <th>StatusTime</th>\n      <th>SubStatus</th>\n    </tr>\n  </thead>\n  <tbody>\n    <tr>\n      <th>29</th>\n      <td>115</td>\n      <td>10395</td>\n      <td>2019-08-21 13:24:50</td>\n      <td>STOP</td>\n    </tr>\n    <tr>\n      <th>45</th>\n      <td>145</td>\n      <td>10460</td>\n      <td>2019-08-21 13:25:49</td>\n      <td>START</td>\n    </tr>\n    <tr>\n      <th>50</th>\n      <td>156</td>\n      <td>10460</td>\n      <td>2019-08-21 13:26:09</td>\n      <td>STOP</td>\n    </tr>\n    <tr>\n      <th>82</th>\n      <td>254</td>\n      <td>10395</td>\n      <td>2019-08-21 13:30:04</td>\n      <td>START</td>\n    </tr>\n    <tr>\n      <th>93</th>\n      <td>280</td>\n      <td>10395</td>\n      <td>2019-08-21 13:32:02</td>\n      <td>STOP</td>\n    </tr>\n    <tr>\n      <th>...</th>\n      <td>...</td>\n      <td>...</td>\n      <td>...</td>\n      <td>...</td>\n    </tr>\n    <tr>\n      <th>615021</th>\n      <td>2012959</td>\n      <td>10395</td>\n      <td>2019-11-19 13:09:43</td>\n      <td>STOP</td>\n    </tr>\n    <tr>\n      <th>615025</th>\n      <td>2012981</td>\n      <td>10395</td>\n      <td>2019-11-19 13:11:03</td>\n      <td>START</td>\n    </tr>\n    <tr>\n      <th>615040</th>\n      <td>2013109</td>\n      <td>10469</td>\n      <td>2019-11-19 13:16:41</td>\n      <td>STOP</td>\n    </tr>\n    <tr>\n      <th>615042</th>\n      <td>2013113</td>\n      <td>10419</td>\n      <td>2019-11-19 13:16:46</td>\n      <td>START</td>\n    </tr>\n    <tr>\n      <th>615047</th>\n      <td>2013121</td>\n      <td>10469</td>\n      <td>2019-11-19 13:17:42</td>\n      <td>START</td>\n    </tr>\n  </tbody>\n</table>\n<p>33833 rows × 4 columns</p>\n</div>"
     },
     "metadata": {},
     "execution_count": 62
    }
   ],
   "source": [
    "df"
   ]
  },
  {
   "cell_type": "markdown",
   "metadata": {},
   "source": [
    "anomálisa mentesítés gépenként"
   ]
  },
  {
   "cell_type": "code",
   "execution_count": 63,
   "metadata": {},
   "outputs": [],
   "source": [
    "list = []\n",
    "list.append(df[df['Machine']=='10449'])\n",
    "list.append(df[df['Machine']=='10704'])\n",
    "list.append(df[df['Machine']=='10469'])\n",
    "list.append(df[df['Machine']=='10460'])\n",
    "list.append(df[df['Machine']=='10395'])\n",
    "list.append(df[df['Machine']=='10424'])\n",
    "list.append(df[df['Machine']=='10419'])\n",
    "list.append(df[df['Machine']=='10396'])"
   ]
  },
  {
   "cell_type": "code",
   "execution_count": 64,
   "metadata": {},
   "outputs": [],
   "source": [
    "# Anomália kezelés 1: több START jön egymás után, akkor az ELSŐ érvényes, több STOP jön egymás után, az utolsó az érvényes\n",
    "\n",
    "def anomaly_handle_1(list):\n",
    "    global anomaly_num\n",
    "    anomaly_num = 1\n",
    "\n",
    "    for j in range(len(list)):\n",
    "        for i in range(len(list[j])-1):\n",
    "            if(list[j]['SubStatus'].iloc[i] == 'START' ):\n",
    "                if(list[j]['SubStatus'].iloc[i+1] == 'START'):     \n",
    "                    list[j]['SubStatus'].iloc[i+1] = 'Anomaly'\n",
    "            elif(list[j]['SubStatus'].iloc[i] == 'Anomaly'):\n",
    "                if(list[j]['SubStatus'].iloc[i+1] == 'START'):     \n",
    "                    list[j]['SubStatus'].iloc[i+1] = 'Anomaly'\n",
    "    for j in range(len(list)):\n",
    "        for i in range(len(list[j])-1):\n",
    "            if(list[j]['SubStatus'].iloc[i] == 'STOP' ):\n",
    "                if(list[j]['SubStatus'].iloc[i+1] == 'STOP'):     \n",
    "                    list[j]['SubStatus'].iloc[i] = 'Anomaly'"
   ]
  },
  {
   "cell_type": "code",
   "execution_count": 65,
   "metadata": {},
   "outputs": [],
   "source": [
    "# Anomália kezelés 2: több START jön egymás után, akkor az UTOLSÓ érvényes, több STOP jön egymás után, az utolsó az érvényes\n",
    "\n",
    "def anomaly_handle_2(list):\n",
    "    global anomaly_num\n",
    "    anomaly_num = 2\n",
    "\n",
    "    for j in range(len(list)):\n",
    "        for i in range(len(list[j])-1):\n",
    "            if(list[j]['SubStatus'].iloc[i] == 'START' ):\n",
    "                if(list[j]['SubStatus'].iloc[i+1] == 'START'):     \n",
    "                    list[j]['SubStatus'].iloc[i] = 'Anomaly'\n",
    "    for j in range(len(list)):\n",
    "        for i in range(len(list[j])-1):\n",
    "            if(list[j]['SubStatus'].iloc[i] == 'STOP' ):\n",
    "                if(list[j]['SubStatus'].iloc[i+1] == 'STOP'):     \n",
    "                    list[j]['SubStatus'].iloc[i] = 'Anomaly'"
   ]
  },
  {
   "cell_type": "code",
   "execution_count": 66,
   "metadata": {},
   "outputs": [],
   "source": [
    "anomaly_handle_2(list)"
   ]
  },
  {
   "cell_type": "code",
   "execution_count": 67,
   "metadata": {},
   "outputs": [
    {
     "output_type": "stream",
     "name": "stdout",
     "text": "START: 1548\nSTOP: 1548\n"
    }
   ],
   "source": [
    "j = 0\n",
    "k = 0\n",
    "for i in range(len(list[0])):\n",
    "    if(list[0]['SubStatus'].iloc[i] == 'START'):\n",
    "        j = j + 1\n",
    "    elif(list[0]['SubStatus'].iloc[i] == 'STOP'):\n",
    "        k = k + 1\n",
    "\n",
    "print(\"START: \" + str(j))\n",
    "print(\"STOP: \" + str(k))"
   ]
  },
  {
   "cell_type": "code",
   "execution_count": 68,
   "metadata": {},
   "outputs": [],
   "source": [
    "list_anomaly = []\n",
    "\n",
    "for i in range(len(list)): \n",
    "    list_anomaly.insert(i, list[i]) "
   ]
  },
  {
   "cell_type": "code",
   "execution_count": 69,
   "metadata": {},
   "outputs": [],
   "source": [
    "for j in range(len(list)):\n",
    "    list[j] = list[j][list[j]['SubStatus']!='Anomaly']"
   ]
  },
  {
   "cell_type": "markdown",
   "metadata": {},
   "source": [
    "# idő hozzárendelése gépenként"
   ]
  },
  {
   "cell_type": "code",
   "execution_count": 70,
   "metadata": {},
   "outputs": [],
   "source": [
    "# startal kell hogy kezdődjön és stoppal végződnie"
   ]
  },
  {
   "cell_type": "code",
   "execution_count": 71,
   "metadata": {},
   "outputs": [],
   "source": [
    "for i in range(len(list_anomaly)):\n",
    "    if(list_anomaly[i].iloc[0]['SubStatus'] != 'START'):\n",
    "        list_anomaly[i] = list_anomaly[i].drop([list_anomaly[i].index[0]])\n",
    "    if(list_anomaly[i].iloc[len(list_anomaly[i]) - 1]['SubStatus'] != 'STOP'):\n",
    "        list_anomaly[i] = list_anomaly[i].drop([list_anomaly[i].index[len(list_anomaly[i])-1]])\n",
    "    if(list_anomaly[i].iloc[len(list_anomaly[i]) - 1]['SubStatus'] == 'Anomaly'):\n",
    "        list_anomaly[i] = list_anomaly[i].drop([list_anomaly[i].index[len(list_anomaly[i])-1]])\n",
    "\n",
    "for i in range(len(list)):\n",
    "    if(list[i].iloc[0]['SubStatus'] != 'START'):\n",
    "        list[i] = list[i].drop([list[i].index[0]])\n",
    "    if(list[i].iloc[len(list[i]) - 1]['SubStatus'] != 'STOP'):\n",
    "        list[i] = list[i].drop([list[i].index[len(list[i])-1]])"
   ]
  },
  {
   "cell_type": "code",
   "execution_count": 72,
   "metadata": {},
   "outputs": [],
   "source": [
    "from datetime import datetime, timedelta"
   ]
  },
  {
   "cell_type": "code",
   "execution_count": 73,
   "metadata": {},
   "outputs": [],
   "source": [
    "def timeInWorking(list): \n",
    "    for j in range(len(list)):    \n",
    "        list[j]['timeInWorking'] = timedelta(0)\n",
    "        for i in range(len(list[j])-1)[0::2]:\n",
    "            timeACTIVE_Str = list[j]['StatusTime'].iloc[i]\n",
    "            timeEND_Str = list[j]['StatusTime'].iloc[i+1]\n",
    "            timeStart = datetime.strptime(timeACTIVE_Str,'%Y-%m-%d %H:%M:%S')\n",
    "            timeEND = datetime.strptime(timeEND_Str,'%Y-%m-%d %H:%M:%S')\n",
    "            list[j]['timeInWorking'].iloc[i+1] = timeEND-timeStart"
   ]
  },
  {
   "cell_type": "code",
   "execution_count": 74,
   "metadata": {},
   "outputs": [],
   "source": [
    "def timeNotWorking(list): \n",
    "    for j in range(len(list)):\n",
    "        list[j]['timeNotWorking'] = timedelta(0)\n",
    "        for i in range(len(list[j])-1)[1::2]:\n",
    "            timeACTIVE_Str = list[j]['StatusTime'].iloc[i]\n",
    "            timeEND_Str = list[j]['StatusTime'].iloc[i+1]\n",
    "            timeStart = datetime.strptime(timeACTIVE_Str,'%Y-%m-%d %H:%M:%S')\n",
    "            timeEND = datetime.strptime(timeEND_Str,'%Y-%m-%d %H:%M:%S')\n",
    "            list[j]['timeNotWorking'].iloc[i+1] = timeEND-timeStart"
   ]
  },
  {
   "cell_type": "code",
   "execution_count": 75,
   "metadata": {},
   "outputs": [],
   "source": [
    "def timeInAnomaly(list):\n",
    "    for j in range(len(list)):\n",
    "        list[j]['timeInAnomaly'] = timedelta(0)\n",
    "\n",
    "        i = 0\n",
    "        while(i <= len(list[j])-1):\n",
    "            if(list[j]['SubStatus'].iloc[i] == 'Anomaly' ):\n",
    "                anomalyStart_Str = list[j]['StatusTime'].iloc[i]\n",
    "                #ameddig anomália jön, addig megyünk\n",
    "                k = 1\n",
    "                while list[j]['SubStatus'].iloc[k + i] == 'Anomaly':\n",
    "                    k = k + 1\n",
    "\n",
    "                if(k == 1):\n",
    "                    i += 1\n",
    "                    pass\n",
    "                else:\n",
    "                    anomalyEND_Str = list[j]['StatusTime'].iloc[i + k]\n",
    "                    timeStart = datetime.strptime(anomalyStart_Str,'%Y-%m-%d %H:%M:%S')\n",
    "                    timeEND = datetime.strptime(anomalyEND_Str,'%Y-%m-%d %H:%M:%S')\n",
    "                    list[j]['timeInAnomaly'].iloc[i + k] = timeEND-timeStart  \n",
    "                    i = i + k\n",
    "                    k = 1\n",
    "            else:\n",
    "                i += 1 "
   ]
  },
  {
   "cell_type": "code",
   "execution_count": 76,
   "metadata": {
    "tags": [
     "outputPrepend",
     "outputPrepend",
     "outputPrepend",
     "outputPrepend",
     "outputPrepend",
     "outputPrepend",
     "outputPrepend",
     "outputPrepend",
     "outputPrepend",
     "outputPrepend",
     "outputPrepend",
     "outputPrepend",
     "outputPrepend",
     "outputPrepend",
     "outputPrepend"
    ]
   },
   "outputs": [],
   "source": [
    "timeInWorking(list)\n",
    "timeNotWorking(list)"
   ]
  },
  {
   "cell_type": "code",
   "execution_count": 77,
   "metadata": {},
   "outputs": [],
   "source": [
    "timeInAnomaly(list_anomaly)"
   ]
  },
  {
   "cell_type": "code",
   "execution_count": 78,
   "metadata": {},
   "outputs": [
    {
     "output_type": "stream",
     "name": "stdout",
     "text": "nc in working time     nc when not working      all time sum of the machine\n\n56 days 22:57:17       32 days 18:38:23         89 days 17:35:40\n54 days 09:18:37       35 days 06:23:03         89 days 15:41:40\n41 days 20:49:31       48 days 01:46:48         89 days 22:36:19\n27 days 17:12:20       26 days 15:54:57         54 days 09:07:17\n33 days 09:41:51       56 days 13:57:48         89 days 23:39:39\n43 days 23:57:29       45 days 16:34:31         89 days 16:32:00\n38 days 00:46:06       51 days 18:51:09         89 days 19:37:15\n56 days 06:53:19       33 days 15:22:54         89 days 22:16:13\n"
    }
   ],
   "source": [
    "print('nc in working time','   ','nc when not working','    ','all time sum of the machine')\n",
    "print('')\n",
    "for i in range(len(list)):\n",
    "    print(list[i]['timeInWorking'].sum(),'     ', list[i]['timeNotWorking'].sum(),'       ',list[i]['timeInWorking'].sum()+list[i]['timeNotWorking'].sum())"
   ]
  },
  {
   "cell_type": "code",
   "execution_count": 79,
   "metadata": {},
   "outputs": [
    {
     "output_type": "stream",
     "name": "stdout",
     "text": "1 számú gép:  3 days 13:00:12\n2 számú gép:  9 days 13:27:40\n3 számú gép:  1 days 23:36:12\n4 számú gép:  5 days 03:10:53\n5 számú gép:  18 days 12:05:44\n6 számú gép:  10 days 18:42:49\n7 számú gép:  14 days 13:44:46\n8 számú gép:  10 days 13:19:48\n"
    }
   ],
   "source": [
    "for i in range(len(list_anomaly)):\n",
    "    print(str(i+1) + \" számú gép: \",list_anomaly[i]['timeInAnomaly'].sum())"
   ]
  },
  {
   "cell_type": "code",
   "execution_count": 80,
   "metadata": {},
   "outputs": [],
   "source": [
    "for i in range(len(list_anomaly)-1):\n",
    "    del list_anomaly[i]['Machine']\n",
    "    del list_anomaly[i]['StatusTime']\n",
    "    del list_anomaly[i]['SubStatus']"
   ]
  },
  {
   "cell_type": "code",
   "execution_count": 81,
   "metadata": {},
   "outputs": [],
   "source": [
    "list_new = []\n",
    "for i in range(len(list)-1):\n",
    "    list_new.append(pd.merge(list[i], list_anomaly[i], left_on='Id', right_on='Id', how='left'))"
   ]
  },
  {
   "cell_type": "code",
   "execution_count": 82,
   "metadata": {},
   "outputs": [],
   "source": [
    "df = pd.concat(list_new)"
   ]
  },
  {
   "cell_type": "markdown",
   "metadata": {},
   "source": [
    "df.to_csv('nc_status_2.csv', sep=\";\")"
   ]
  },
  {
   "cell_type": "code",
   "execution_count": 83,
   "metadata": {},
   "outputs": [
    {
     "output_type": "execute_result",
     "data": {
      "text/plain": "           Id Machine           StatusTime SubStatus timeInWorking  \\\n0        1612   10449  2019-08-21 14:57:59     START      00:00:00   \n1        1859   10449  2019-08-21 15:13:03      STOP      00:15:04   \n2        1976   10449  2019-08-21 15:17:38     START      00:00:00   \n3        2156   10449  2019-08-21 15:25:49      STOP      00:08:11   \n4        2211   10449  2019-08-21 15:27:47     START      00:00:00   \n...       ...     ...                  ...       ...           ...   \n3531  2009713   10419  2019-11-19 09:24:15      STOP      00:09:38   \n3532  2009739   10419  2019-11-19 09:25:33     START      00:00:00   \n3533  2009749   10419  2019-11-19 09:26:51      STOP      00:01:18   \n3534  2010060   10419  2019-11-19 09:37:54     START      00:00:00   \n3535  2010360   10419  2019-11-19 10:06:11      STOP      00:28:17   \n\n     timeNotWorking timeInAnomaly  \n0          00:00:00        0 days  \n1          00:00:00        0 days  \n2          00:04:35        0 days  \n3          00:00:00        0 days  \n4          00:01:58        0 days  \n...             ...           ...  \n3531       00:00:00        0 days  \n3532       00:01:18        0 days  \n3533       00:00:00        0 days  \n3534       00:11:03        0 days  \n3535       00:00:00        0 days  \n\n[25932 rows x 7 columns]",
      "text/html": "<div>\n<style scoped>\n    .dataframe tbody tr th:only-of-type {\n        vertical-align: middle;\n    }\n\n    .dataframe tbody tr th {\n        vertical-align: top;\n    }\n\n    .dataframe thead th {\n        text-align: right;\n    }\n</style>\n<table border=\"1\" class=\"dataframe\">\n  <thead>\n    <tr style=\"text-align: right;\">\n      <th></th>\n      <th>Id</th>\n      <th>Machine</th>\n      <th>StatusTime</th>\n      <th>SubStatus</th>\n      <th>timeInWorking</th>\n      <th>timeNotWorking</th>\n      <th>timeInAnomaly</th>\n    </tr>\n  </thead>\n  <tbody>\n    <tr>\n      <th>0</th>\n      <td>1612</td>\n      <td>10449</td>\n      <td>2019-08-21 14:57:59</td>\n      <td>START</td>\n      <td>00:00:00</td>\n      <td>00:00:00</td>\n      <td>0 days</td>\n    </tr>\n    <tr>\n      <th>1</th>\n      <td>1859</td>\n      <td>10449</td>\n      <td>2019-08-21 15:13:03</td>\n      <td>STOP</td>\n      <td>00:15:04</td>\n      <td>00:00:00</td>\n      <td>0 days</td>\n    </tr>\n    <tr>\n      <th>2</th>\n      <td>1976</td>\n      <td>10449</td>\n      <td>2019-08-21 15:17:38</td>\n      <td>START</td>\n      <td>00:00:00</td>\n      <td>00:04:35</td>\n      <td>0 days</td>\n    </tr>\n    <tr>\n      <th>3</th>\n      <td>2156</td>\n      <td>10449</td>\n      <td>2019-08-21 15:25:49</td>\n      <td>STOP</td>\n      <td>00:08:11</td>\n      <td>00:00:00</td>\n      <td>0 days</td>\n    </tr>\n    <tr>\n      <th>4</th>\n      <td>2211</td>\n      <td>10449</td>\n      <td>2019-08-21 15:27:47</td>\n      <td>START</td>\n      <td>00:00:00</td>\n      <td>00:01:58</td>\n      <td>0 days</td>\n    </tr>\n    <tr>\n      <th>...</th>\n      <td>...</td>\n      <td>...</td>\n      <td>...</td>\n      <td>...</td>\n      <td>...</td>\n      <td>...</td>\n      <td>...</td>\n    </tr>\n    <tr>\n      <th>3531</th>\n      <td>2009713</td>\n      <td>10419</td>\n      <td>2019-11-19 09:24:15</td>\n      <td>STOP</td>\n      <td>00:09:38</td>\n      <td>00:00:00</td>\n      <td>0 days</td>\n    </tr>\n    <tr>\n      <th>3532</th>\n      <td>2009739</td>\n      <td>10419</td>\n      <td>2019-11-19 09:25:33</td>\n      <td>START</td>\n      <td>00:00:00</td>\n      <td>00:01:18</td>\n      <td>0 days</td>\n    </tr>\n    <tr>\n      <th>3533</th>\n      <td>2009749</td>\n      <td>10419</td>\n      <td>2019-11-19 09:26:51</td>\n      <td>STOP</td>\n      <td>00:01:18</td>\n      <td>00:00:00</td>\n      <td>0 days</td>\n    </tr>\n    <tr>\n      <th>3534</th>\n      <td>2010060</td>\n      <td>10419</td>\n      <td>2019-11-19 09:37:54</td>\n      <td>START</td>\n      <td>00:00:00</td>\n      <td>00:11:03</td>\n      <td>0 days</td>\n    </tr>\n    <tr>\n      <th>3535</th>\n      <td>2010360</td>\n      <td>10419</td>\n      <td>2019-11-19 10:06:11</td>\n      <td>STOP</td>\n      <td>00:28:17</td>\n      <td>00:00:00</td>\n      <td>0 days</td>\n    </tr>\n  </tbody>\n</table>\n<p>25932 rows × 7 columns</p>\n</div>"
     },
     "metadata": {},
     "execution_count": 83
    }
   ],
   "source": [
    "df"
   ]
  },
  {
   "cell_type": "code",
   "execution_count": 84,
   "metadata": {},
   "outputs": [],
   "source": [
    "import os\n",
    "from datetime import datetime as dt\n",
    "import datetime\n",
    "import pytz, time\n",
    "import gc\n",
    "\n",
    "os.environ['TZ'] = 'Europe/Budpest'\n",
    "CET = pytz.timezone('Europe/Budapest')"
   ]
  },
  {
   "cell_type": "code",
   "execution_count": 85,
   "metadata": {},
   "outputs": [
    {
     "output_type": "execute_result",
     "data": {
      "text/plain": "                            Id Machine SubStatus timeInWorking timeNotWorking  \\\nStatusTime                                                                      \n2019-08-21 13:25:49+02:00  145   10460     START      00:00:00       00:00:00   \n2019-08-21 13:26:09+02:00  156   10460      STOP      00:00:20       00:00:00   \n2019-08-21 13:30:04+02:00  254   10395     START      00:00:00       00:00:00   \n2019-08-21 13:32:02+02:00  280   10395      STOP      00:01:58       00:00:00   \n2019-08-21 13:57:53+02:00  644   10395     START      00:00:00       00:25:51   \n\n                          timeInAnomaly  \nStatusTime                               \n2019-08-21 13:25:49+02:00        0 days  \n2019-08-21 13:26:09+02:00        0 days  \n2019-08-21 13:30:04+02:00        0 days  \n2019-08-21 13:32:02+02:00        0 days  \n2019-08-21 13:57:53+02:00        0 days  ",
      "text/html": "<div>\n<style scoped>\n    .dataframe tbody tr th:only-of-type {\n        vertical-align: middle;\n    }\n\n    .dataframe tbody tr th {\n        vertical-align: top;\n    }\n\n    .dataframe thead th {\n        text-align: right;\n    }\n</style>\n<table border=\"1\" class=\"dataframe\">\n  <thead>\n    <tr style=\"text-align: right;\">\n      <th></th>\n      <th>Id</th>\n      <th>Machine</th>\n      <th>SubStatus</th>\n      <th>timeInWorking</th>\n      <th>timeNotWorking</th>\n      <th>timeInAnomaly</th>\n    </tr>\n    <tr>\n      <th>StatusTime</th>\n      <th></th>\n      <th></th>\n      <th></th>\n      <th></th>\n      <th></th>\n      <th></th>\n    </tr>\n  </thead>\n  <tbody>\n    <tr>\n      <th>2019-08-21 13:25:49+02:00</th>\n      <td>145</td>\n      <td>10460</td>\n      <td>START</td>\n      <td>00:00:00</td>\n      <td>00:00:00</td>\n      <td>0 days</td>\n    </tr>\n    <tr>\n      <th>2019-08-21 13:26:09+02:00</th>\n      <td>156</td>\n      <td>10460</td>\n      <td>STOP</td>\n      <td>00:00:20</td>\n      <td>00:00:00</td>\n      <td>0 days</td>\n    </tr>\n    <tr>\n      <th>2019-08-21 13:30:04+02:00</th>\n      <td>254</td>\n      <td>10395</td>\n      <td>START</td>\n      <td>00:00:00</td>\n      <td>00:00:00</td>\n      <td>0 days</td>\n    </tr>\n    <tr>\n      <th>2019-08-21 13:32:02+02:00</th>\n      <td>280</td>\n      <td>10395</td>\n      <td>STOP</td>\n      <td>00:01:58</td>\n      <td>00:00:00</td>\n      <td>0 days</td>\n    </tr>\n    <tr>\n      <th>2019-08-21 13:57:53+02:00</th>\n      <td>644</td>\n      <td>10395</td>\n      <td>START</td>\n      <td>00:00:00</td>\n      <td>00:25:51</td>\n      <td>0 days</td>\n    </tr>\n  </tbody>\n</table>\n</div>"
     },
     "metadata": {},
     "execution_count": 85
    }
   ],
   "source": [
    "df = df[['Id', 'Machine', 'StatusTime', 'SubStatus', 'timeInWorking', 'timeNotWorking', 'timeInAnomaly']]\n",
    "df = df.astype({'StatusTime' : 'datetime64'})\n",
    "df.index = df.StatusTime\n",
    "df.index = df.index.tz_localize('Europe/Budapest')\n",
    "df = df.drop(columns='StatusTime')\n",
    "df.sort_values(inplace=True, axis='index', by='StatusTime')\n",
    "df.head()"
   ]
  },
  {
   "cell_type": "code",
   "execution_count": 86,
   "metadata": {},
   "outputs": [],
   "source": [
    "df['ts_work'] = 0\n",
    "df['ts_notwork'] = 0\n",
    "df['ts_anom'] = 0\n",
    "for i in range(len(df)):\n",
    "    df['ts_work'].iloc[i] = df['timeInWorking'].iloc[i].total_seconds() / 3600\n",
    "    df['ts_notwork'].iloc[i] = df['timeNotWorking'].iloc[i].total_seconds() / 3600\n",
    "    df['ts_anom'].iloc[i] = df['timeInAnomaly'].iloc[i].total_seconds() / 3600"
   ]
  },
  {
   "cell_type": "code",
   "execution_count": 87,
   "metadata": {},
   "outputs": [
    {
     "output_type": "execute_result",
     "data": {
      "text/plain": "                                Id Machine SubStatus   ts_work  ts_notwork  \\\nStatusTime                                                                   \n2019-08-21 13:25:49+02:00      145   10460     START  0.000000    0.000000   \n2019-08-21 13:26:09+02:00      156   10460      STOP  0.005556    0.000000   \n2019-08-21 13:30:04+02:00      254   10395     START  0.000000    0.000000   \n2019-08-21 13:32:02+02:00      280   10395      STOP  0.032778    0.000000   \n2019-08-21 13:57:53+02:00      644   10395     START  0.000000    0.430833   \n...                            ...     ...       ...       ...         ...   \n2019-11-19 13:06:22+01:00  2012853   10395     START  0.000000    0.005556   \n2019-11-19 13:08:02+01:00  2012911   10395      STOP  0.027778    0.000000   \n2019-11-19 13:09:23+01:00  2012941   10395     START  0.000000    0.022500   \n2019-11-19 13:09:43+01:00  2012959   10395      STOP  0.005556    0.000000   \n2019-11-19 13:16:41+01:00  2013109   10469      STOP  1.408333    0.000000   \n\n                           ts_anom  \nStatusTime                          \n2019-08-21 13:25:49+02:00      0.0  \n2019-08-21 13:26:09+02:00      0.0  \n2019-08-21 13:30:04+02:00      0.0  \n2019-08-21 13:32:02+02:00      0.0  \n2019-08-21 13:57:53+02:00      0.0  \n...                            ...  \n2019-11-19 13:06:22+01:00      0.0  \n2019-11-19 13:08:02+01:00      0.0  \n2019-11-19 13:09:23+01:00      0.0  \n2019-11-19 13:09:43+01:00      0.0  \n2019-11-19 13:16:41+01:00      0.0  \n\n[25932 rows x 6 columns]",
      "text/html": "<div>\n<style scoped>\n    .dataframe tbody tr th:only-of-type {\n        vertical-align: middle;\n    }\n\n    .dataframe tbody tr th {\n        vertical-align: top;\n    }\n\n    .dataframe thead th {\n        text-align: right;\n    }\n</style>\n<table border=\"1\" class=\"dataframe\">\n  <thead>\n    <tr style=\"text-align: right;\">\n      <th></th>\n      <th>Id</th>\n      <th>Machine</th>\n      <th>SubStatus</th>\n      <th>ts_work</th>\n      <th>ts_notwork</th>\n      <th>ts_anom</th>\n    </tr>\n    <tr>\n      <th>StatusTime</th>\n      <th></th>\n      <th></th>\n      <th></th>\n      <th></th>\n      <th></th>\n      <th></th>\n    </tr>\n  </thead>\n  <tbody>\n    <tr>\n      <th>2019-08-21 13:25:49+02:00</th>\n      <td>145</td>\n      <td>10460</td>\n      <td>START</td>\n      <td>0.000000</td>\n      <td>0.000000</td>\n      <td>0.0</td>\n    </tr>\n    <tr>\n      <th>2019-08-21 13:26:09+02:00</th>\n      <td>156</td>\n      <td>10460</td>\n      <td>STOP</td>\n      <td>0.005556</td>\n      <td>0.000000</td>\n      <td>0.0</td>\n    </tr>\n    <tr>\n      <th>2019-08-21 13:30:04+02:00</th>\n      <td>254</td>\n      <td>10395</td>\n      <td>START</td>\n      <td>0.000000</td>\n      <td>0.000000</td>\n      <td>0.0</td>\n    </tr>\n    <tr>\n      <th>2019-08-21 13:32:02+02:00</th>\n      <td>280</td>\n      <td>10395</td>\n      <td>STOP</td>\n      <td>0.032778</td>\n      <td>0.000000</td>\n      <td>0.0</td>\n    </tr>\n    <tr>\n      <th>2019-08-21 13:57:53+02:00</th>\n      <td>644</td>\n      <td>10395</td>\n      <td>START</td>\n      <td>0.000000</td>\n      <td>0.430833</td>\n      <td>0.0</td>\n    </tr>\n    <tr>\n      <th>...</th>\n      <td>...</td>\n      <td>...</td>\n      <td>...</td>\n      <td>...</td>\n      <td>...</td>\n      <td>...</td>\n    </tr>\n    <tr>\n      <th>2019-11-19 13:06:22+01:00</th>\n      <td>2012853</td>\n      <td>10395</td>\n      <td>START</td>\n      <td>0.000000</td>\n      <td>0.005556</td>\n      <td>0.0</td>\n    </tr>\n    <tr>\n      <th>2019-11-19 13:08:02+01:00</th>\n      <td>2012911</td>\n      <td>10395</td>\n      <td>STOP</td>\n      <td>0.027778</td>\n      <td>0.000000</td>\n      <td>0.0</td>\n    </tr>\n    <tr>\n      <th>2019-11-19 13:09:23+01:00</th>\n      <td>2012941</td>\n      <td>10395</td>\n      <td>START</td>\n      <td>0.000000</td>\n      <td>0.022500</td>\n      <td>0.0</td>\n    </tr>\n    <tr>\n      <th>2019-11-19 13:09:43+01:00</th>\n      <td>2012959</td>\n      <td>10395</td>\n      <td>STOP</td>\n      <td>0.005556</td>\n      <td>0.000000</td>\n      <td>0.0</td>\n    </tr>\n    <tr>\n      <th>2019-11-19 13:16:41+01:00</th>\n      <td>2013109</td>\n      <td>10469</td>\n      <td>STOP</td>\n      <td>1.408333</td>\n      <td>0.000000</td>\n      <td>0.0</td>\n    </tr>\n  </tbody>\n</table>\n<p>25932 rows × 6 columns</p>\n</div>"
     },
     "metadata": {},
     "execution_count": 87
    }
   ],
   "source": [
    "del df['timeInWorking']\n",
    "del df['timeNotWorking']\n",
    "del df['timeInAnomaly']\n",
    "df"
   ]
  },
  {
   "cell_type": "code",
   "execution_count": 88,
   "metadata": {},
   "outputs": [
    {
     "output_type": "execute_result",
     "data": {
      "text/plain": "defaultdict(list,\n            {'nc_status':                           Machine SubStatus  ts_anom  ts_notwork   ts_work\n             2019-08-21 11:25:49+00:00   10460     START      0.0    0.000000  0.000000\n             2019-08-21 11:26:09+00:00   10460      STOP      0.0    0.000000  0.005556\n             2019-08-21 11:30:04+00:00   10395     START      0.0    0.000000  0.000000\n             2019-08-21 11:32:02+00:00   10395      STOP      0.0    0.000000  0.032778\n             2019-08-21 11:57:53+00:00   10395     START      0.0    0.430833  0.000000\n             ...                           ...       ...      ...         ...       ...\n             2019-11-19 12:06:22+00:00   10395     START      0.0    0.005556  0.000000\n             2019-11-19 12:08:02+00:00   10395      STOP      0.0    0.000000  0.027778\n             2019-11-19 12:09:23+00:00   10395     START      0.0    0.022500  0.000000\n             2019-11-19 12:09:43+00:00   10395      STOP      0.0    0.000000  0.005556\n             2019-11-19 12:16:41+00:00   10469      STOP      0.0    0.000000  1.408333\n             \n             [25932 rows x 5 columns]})"
     },
     "metadata": {},
     "execution_count": 88
    }
   ],
   "source": [
    "import influxdb\n",
    "\n",
    "client = influxdb.DataFrameClient(host='152.66.34.82', port=8086)\n",
    "client.switch_database('knorr')\n",
    "client.query(query='DROP MEASUREMENT \"nc_status\"', database='knorr')\n",
    "client.write_points(df, database='knorr', measurement='nc_status', tag_columns=['Machine', 'SubStatus'], field_columns=['ts_work','ts_notwork','ts_anom'], time_precision='ms', batch_size=10000, protocol='line')\n",
    "client.query(query='SELECT * FROM nc_status', database='knorr')"
   ]
  },
  {
   "cell_type": "code",
   "execution_count": null,
   "metadata": {},
   "outputs": [],
   "source": []
  }
 ],
 "metadata": {
  "kernelspec": {
   "display_name": "Python 3.7.3 64-bit ('anaconda3': virtualenv)",
   "language": "python",
   "name": "python37364bitanaconda3virtualenvf298a04dab3e493999cb12b49f5694ff"
  },
  "language_info": {
   "codemirror_mode": {
    "name": "ipython",
    "version": 3
   },
   "file_extension": ".py",
   "mimetype": "text/x-python",
   "name": "python",
   "nbconvert_exporter": "python",
   "pygments_lexer": "ipython3",
   "version": "3.7.3-final"
  }
 },
 "nbformat": 4,
 "nbformat_minor": 2
}
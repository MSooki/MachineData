{
 "cells": [
  {
   "cell_type": "markdown",
   "metadata": {},
   "source": [
    "# Cycle adatelemzés"
   ]
  },
  {
   "cell_type": "code",
   "execution_count": 1,
   "metadata": {},
   "outputs": [],
   "source": [
    "import pandas as pd\n",
    "import numpy as np\n",
    "import matplotlib.pyplot as plt\n",
    "%matplotlib inline\n",
    "anomaly_num = 0"
   ]
  },
  {
   "cell_type": "code",
   "execution_count": 2,
   "metadata": {},
   "outputs": [],
   "source": [
    "df = pd.read_csv(\"PLC_NBH170.csv\", sep=\";\")"
   ]
  },
  {
   "cell_type": "code",
   "execution_count": 3,
   "metadata": {},
   "outputs": [],
   "source": [
    "def switch(i):\n",
    "    switcher = {\n",
    "        'KBBUD10449-NBH170-PLCStationThing': \"10449\",\n",
    "        'KBBUD10704-NBH170-PLCStationThing': \"10704\",\n",
    "        'KBBUD10469-NBH170-PLCStationThing': \"10469\",\n",
    "        'KBBUD10460-NBH170-PLCStationThing': \"10460\",\n",
    "        'KBBUD10395-NBH170-PLCStationThing': \"10395\",\n",
    "        'KBBUD10424-NBH170-PLCStationThing': \"10424\",\n",
    "        'KBBUD10419-NBH170-PLCStationThing': \"10419\",\n",
    "        'KBBUD10396-NBH170-PLCStationThing': \"10396\"\n",
    "        \n",
    "    }\n",
    "    return switcher.get(i,\"invalid\")"
   ]
  },
  {
   "cell_type": "code",
   "execution_count": 4,
   "metadata": {},
   "outputs": [],
   "source": [
    "df['Machine'] = df['Machine'].apply(lambda x: switch(x))\n",
    "df['StatusTime'] = df['StatusTime'].apply(lambda x: x[:-4])\n",
    "\n",
    "del df['StatusType']\n",
    "del df['description']\n",
    "del df['CreationTime']"
   ]
  },
  {
   "cell_type": "markdown",
   "metadata": {},
   "source": [
    "# Cycle Státuszok"
   ]
  },
  {
   "cell_type": "code",
   "execution_count": 5,
   "metadata": {},
   "outputs": [],
   "source": [
    "df = df[df['Status']=='Cycle']\n",
    "del df['Status']\n",
    "df = df.sort_values(by='StatusTime')"
   ]
  },
  {
   "cell_type": "markdown",
   "metadata": {},
   "source": [
    "anomália mentesítés gépenként"
   ]
  },
  {
   "cell_type": "code",
   "execution_count": 6,
   "metadata": {},
   "outputs": [],
   "source": [
    "list = []\n",
    "list.append(df[df['Machine']=='10449'])\n",
    "list.append(df[df['Machine']=='10704'])\n",
    "list.append(df[df['Machine']=='10469'])\n",
    "list.append(df[df['Machine']=='10460'])\n",
    "list.append(df[df['Machine']=='10395'])\n",
    "list.append(df[df['Machine']=='10424'])\n",
    "list.append(df[df['Machine']=='10419'])\n",
    "list.append(df[df['Machine']=='10396'])"
   ]
  },
  {
   "cell_type": "code",
   "execution_count": 7,
   "metadata": {},
   "outputs": [],
   "source": [
    "# Anomália kezelés 1: több ACTIVE jön egymás után, akkor az ELSŐ érvényes, több END jön egymás után, az utolsó az érvényes\n",
    "\n",
    "def anomaly_handle_1(list):\n",
    "    global anomaly_num\n",
    "    anomaly_num = 1\n",
    "\n",
    "    for j in range(len(list)):\n",
    "        for i in range(len(list[j])-1):\n",
    "            if(list[j]['SubStatus'].iloc[i] == 'ACTIVE' ):\n",
    "                if(list[j]['SubStatus'].iloc[i+1] == 'ACTIVE'):     \n",
    "                    list[j]['SubStatus'].iloc[i+1] = 'Anomaly'\n",
    "            elif(list[j]['SubStatus'].iloc[i] == 'Anomaly'):\n",
    "                if(list[j]['SubStatus'].iloc[i+1] == 'ACTIVE'):     \n",
    "                    list[j]['SubStatus'].iloc[i+1] = 'Anomaly'\n",
    "    for j in range(len(list)):\n",
    "        for i in range(len(list[j])-1):\n",
    "            if(list[j]['SubStatus'].iloc[i] == 'END' ):\n",
    "                if(list[j]['SubStatus'].iloc[i+1] == 'END'):     \n",
    "                    list[j]['SubStatus'].iloc[i] = 'Anomaly'"
   ]
  },
  {
   "cell_type": "code",
   "execution_count": 8,
   "metadata": {},
   "outputs": [],
   "source": [
    "# Anomália kezelés 2: több ACTIVE jön egymás után, akkor az UTOLSÓ érvényes, több END jön egymás után, az utolsó az érvényes\n",
    "\n",
    "def anomaly_handle_2(list):\n",
    "    global anomaly_num\n",
    "    anomaly_num = 2\n",
    "\n",
    "    for j in range(len(list)):\n",
    "        for i in range(len(list[j])-1):\n",
    "            if(list[j]['SubStatus'].iloc[i] == 'ACTIVE' ):\n",
    "                if(list[j]['SubStatus'].iloc[i+1] == 'ACTIVE'):     \n",
    "                    list[j]['SubStatus'].iloc[i] = 'Anomaly'\n",
    "    for j in range(len(list)):\n",
    "        for i in range(len(list[j])-1):\n",
    "            if(list[j]['SubStatus'].iloc[i] == 'END' ):\n",
    "                if(list[j]['SubStatus'].iloc[i+1] == 'END'):     \n",
    "                    list[j]['SubStatus'].iloc[i] = 'Anomaly'"
   ]
  },
  {
   "cell_type": "code",
   "execution_count": 9,
   "metadata": {},
   "outputs": [],
   "source": [
    "anomaly_handle_2(list)"
   ]
  },
  {
   "cell_type": "code",
   "execution_count": 10,
   "metadata": {},
   "outputs": [
    {
     "output_type": "stream",
     "name": "stdout",
     "text": "START: 1873\nSTOP: 1874\n"
    }
   ],
   "source": [
    "j = 0\n",
    "k = 0\n",
    "list_index = 0\n",
    "for i in range(len(list[list_index])):\n",
    "    if(list[list_index]['SubStatus'].iloc[i] == 'ACTIVE'):\n",
    "        j = j + 1\n",
    "    elif(list[list_index]['SubStatus'].iloc[i] == 'END'):\n",
    "        k = k + 1\n",
    "\n",
    "print(\"START: \" + str(j))\n",
    "print(\"STOP: \" + str(k))"
   ]
  },
  {
   "cell_type": "code",
   "execution_count": 11,
   "metadata": {},
   "outputs": [],
   "source": [
    "list_anomaly = []\n",
    "\n",
    "for i in range(len(list)): \n",
    "    list_anomaly.insert(i, list[i]) "
   ]
  },
  {
   "cell_type": "code",
   "execution_count": 12,
   "metadata": {},
   "outputs": [],
   "source": [
    "for j in range(len(list)):\n",
    "    list[j] = list[j][list[j]['SubStatus']!='Anomaly']"
   ]
  },
  {
   "cell_type": "markdown",
   "metadata": {},
   "source": [
    "# idő hozzárendelése gépenként"
   ]
  },
  {
   "cell_type": "code",
   "execution_count": 13,
   "metadata": {},
   "outputs": [],
   "source": [
    "# startal kell hogy kezdődjön és stoppal végződnie"
   ]
  },
  {
   "cell_type": "code",
   "execution_count": 14,
   "metadata": {},
   "outputs": [
    {
     "output_type": "execute_result",
     "data": {
      "text/plain": "             Id Machine           StatusTime SubStatus\n272         776   10449  2019-08-21 14:10:57       END\n381        1040   10449  2019-08-21 14:28:17    ACTIVE\n554        1547   10449  2019-08-21 14:55:03       END\n564        1595   10449  2019-08-21 14:57:01    ACTIVE\n784        2365   10449  2019-08-21 15:37:15       END\n...         ...     ...                  ...       ...\n613669  2008034   10449  2019-11-19 07:14:51       END\n613675  2008048   10449  2019-11-19 07:15:31    ACTIVE\n613766  2008247   10449  2019-11-19 07:28:53       END\n613887  2008590   10449  2019-11-19 07:54:15    ACTIVE\n614179  2009449   10449  2019-11-19 09:11:57       END\n\n[3935 rows x 4 columns]",
      "text/html": "<div>\n<style scoped>\n    .dataframe tbody tr th:only-of-type {\n        vertical-align: middle;\n    }\n\n    .dataframe tbody tr th {\n        vertical-align: top;\n    }\n\n    .dataframe thead th {\n        text-align: right;\n    }\n</style>\n<table border=\"1\" class=\"dataframe\">\n  <thead>\n    <tr style=\"text-align: right;\">\n      <th></th>\n      <th>Id</th>\n      <th>Machine</th>\n      <th>StatusTime</th>\n      <th>SubStatus</th>\n    </tr>\n  </thead>\n  <tbody>\n    <tr>\n      <th>272</th>\n      <td>776</td>\n      <td>10449</td>\n      <td>2019-08-21 14:10:57</td>\n      <td>END</td>\n    </tr>\n    <tr>\n      <th>381</th>\n      <td>1040</td>\n      <td>10449</td>\n      <td>2019-08-21 14:28:17</td>\n      <td>ACTIVE</td>\n    </tr>\n    <tr>\n      <th>554</th>\n      <td>1547</td>\n      <td>10449</td>\n      <td>2019-08-21 14:55:03</td>\n      <td>END</td>\n    </tr>\n    <tr>\n      <th>564</th>\n      <td>1595</td>\n      <td>10449</td>\n      <td>2019-08-21 14:57:01</td>\n      <td>ACTIVE</td>\n    </tr>\n    <tr>\n      <th>784</th>\n      <td>2365</td>\n      <td>10449</td>\n      <td>2019-08-21 15:37:15</td>\n      <td>END</td>\n    </tr>\n    <tr>\n      <th>...</th>\n      <td>...</td>\n      <td>...</td>\n      <td>...</td>\n      <td>...</td>\n    </tr>\n    <tr>\n      <th>613669</th>\n      <td>2008034</td>\n      <td>10449</td>\n      <td>2019-11-19 07:14:51</td>\n      <td>END</td>\n    </tr>\n    <tr>\n      <th>613675</th>\n      <td>2008048</td>\n      <td>10449</td>\n      <td>2019-11-19 07:15:31</td>\n      <td>ACTIVE</td>\n    </tr>\n    <tr>\n      <th>613766</th>\n      <td>2008247</td>\n      <td>10449</td>\n      <td>2019-11-19 07:28:53</td>\n      <td>END</td>\n    </tr>\n    <tr>\n      <th>613887</th>\n      <td>2008590</td>\n      <td>10449</td>\n      <td>2019-11-19 07:54:15</td>\n      <td>ACTIVE</td>\n    </tr>\n    <tr>\n      <th>614179</th>\n      <td>2009449</td>\n      <td>10449</td>\n      <td>2019-11-19 09:11:57</td>\n      <td>END</td>\n    </tr>\n  </tbody>\n</table>\n<p>3935 rows × 4 columns</p>\n</div>"
     },
     "metadata": {},
     "execution_count": 14
    }
   ],
   "source": [
    "list_anomaly[0]"
   ]
  },
  {
   "cell_type": "code",
   "execution_count": 15,
   "metadata": {},
   "outputs": [],
   "source": [
    "for i in range(len(list_anomaly)):\n",
    "    if(list_anomaly[i].iloc[0]['SubStatus'] != 'ACTIVE'):\n",
    "        list_anomaly[i] = list_anomaly[i].drop([list_anomaly[i].index[0]])\n",
    "    if(list_anomaly[i].iloc[len(list_anomaly[i]) - 1]['SubStatus'] != 'END'):\n",
    "        list_anomaly[i] = list_anomaly[i].drop([list_anomaly[i].index[len(list_anomaly[i])-1]])"
   ]
  },
  {
   "cell_type": "code",
   "execution_count": 16,
   "metadata": {},
   "outputs": [],
   "source": [
    "for i in range(len(list)):\n",
    "    if(list[i].iloc[0]['SubStatus'] != 'ACTIVE'):\n",
    "        list[i] = list[i].drop([list[i].index[0]])\n",
    "    if(list[i].iloc[len(list[i]) - 1]['SubStatus'] != 'END'):\n",
    "        list[i] = list[i].drop([list[i].index[len(list[i])-1]])"
   ]
  },
  {
   "cell_type": "code",
   "execution_count": 17,
   "metadata": {},
   "outputs": [],
   "source": [
    "from datetime import datetime, timedelta"
   ]
  },
  {
   "cell_type": "code",
   "execution_count": 18,
   "metadata": {},
   "outputs": [],
   "source": [
    "def timeInWorking(list): \n",
    "    for j in range(len(list)):    \n",
    "        list[j]['timeInWorking'] = timedelta(0)\n",
    "        for i in range(len(list[j])-1)[0::2]:\n",
    "            timeACTIVE_Str = list[j]['StatusTime'].iloc[i]\n",
    "            timeEND_Str = list[j]['StatusTime'].iloc[i+1]\n",
    "            timeStart = datetime.strptime(timeACTIVE_Str,'%Y-%m-%d %H:%M:%S')\n",
    "            timeEND = datetime.strptime(timeEND_Str,'%Y-%m-%d %H:%M:%S')\n",
    "            list[j]['timeInWorking'].iloc[i+1] = timeEND-timeStart"
   ]
  },
  {
   "cell_type": "code",
   "execution_count": 19,
   "metadata": {},
   "outputs": [],
   "source": [
    "def timeNotWorking(list): \n",
    "    for j in range(len(list)):\n",
    "        list[j]['timeNotWorking'] = timedelta(0)\n",
    "        for i in range(len(list[j])-1)[1::2]:\n",
    "            timeACTIVE_Str = list[j]['StatusTime'].iloc[i]\n",
    "            timeEND_Str = list[j]['StatusTime'].iloc[i+1]\n",
    "            timeStart = datetime.strptime(timeACTIVE_Str,'%Y-%m-%d %H:%M:%S')\n",
    "            timeEND = datetime.strptime(timeEND_Str,'%Y-%m-%d %H:%M:%S')\n",
    "            list[j]['timeNotWorking'].iloc[i+1] = timeEND-timeStart"
   ]
  },
  {
   "cell_type": "code",
   "execution_count": 20,
   "metadata": {},
   "outputs": [],
   "source": [
    "def timeInAnomaly(list):\n",
    "    for j in range(len(list)):\n",
    "        list[j]['timeInAnomaly'] = timedelta(0)\n",
    "\n",
    "        i = 0\n",
    "        while(i <= len(list[j])-1):\n",
    "            if(list[j]['SubStatus'].iloc[i] == 'Anomaly' ):\n",
    "                anomalyStart_Str = list[j]['StatusTime'].iloc[i]\n",
    "                #ameddig anomália jön, addig megyünk\n",
    "                k = 1\n",
    "                while list[j]['SubStatus'].iloc[k + i] == 'Anomaly':\n",
    "                    k = k + 1\n",
    "\n",
    "                if(k == 1):\n",
    "                    i += 1\n",
    "                    pass\n",
    "                else:\n",
    "                    anomalyEND_Str = list[j]['StatusTime'].iloc[i + k]\n",
    "                    timeStart = datetime.strptime(anomalyStart_Str,'%Y-%m-%d %H:%M:%S')\n",
    "                    timeEND = datetime.strptime(anomalyEND_Str,'%Y-%m-%d %H:%M:%S')\n",
    "                    list[j]['timeInAnomaly'].iloc[i + k] = timeEND-timeStart  \n",
    "                    i = i + k\n",
    "                    k = 1\n",
    "            else:\n",
    "                i += 1 "
   ]
  },
  {
   "cell_type": "code",
   "execution_count": 21,
   "metadata": {
    "tags": [
     "outputPrepend",
     "outputPrepend",
     "outputPrepend",
     "outputPrepend",
     "outputPrepend",
     "outputPrepend",
     "outputPrepend",
     "outputPrepend",
     "outputPrepend",
     "outputPrepend",
     "outputPrepend",
     "outputPrepend",
     "outputPrepend",
     "outputPrepend",
     "outputPrepend",
     "outputPrepend",
     "outputPrepend",
     "outputPrepend",
     "outputPrepend",
     "outputPrepend",
     "outputPrepend",
     "outputPrepend",
     "outputPrepend",
     "outputPrepend",
     "outputPrepend",
     "outputPrepend",
     "outputPrepend",
     "outputPrepend",
     "outputPrepend",
     "outputPrepend",
     "outputPrepend",
     "outputPrepend",
     "outputPrepend",
     "outputPrepend",
     "outputPrepend",
     "outputPrepend",
     "outputPrepend",
     "outputPrepend",
     "outputPrepend",
     "outputPrepend",
     "outputPrepend",
     "outputPrepend",
     "outputPrepend",
     "outputPrepend",
     "outputPrepend"
    ]
   },
   "outputs": [],
   "source": [
    "timeInAnomaly(list_anomaly)"
   ]
  },
  {
   "cell_type": "code",
   "execution_count": 22,
   "metadata": {},
   "outputs": [],
   "source": [
    "timeInWorking(list)\n",
    "timeNotWorking(list)"
   ]
  },
  {
   "cell_type": "code",
   "execution_count": 23,
   "metadata": {},
   "outputs": [
    {
     "output_type": "stream",
     "name": "stdout",
     "text": "cycle in working time  cycle when not working  all time sum of the machine\n\n46 days 21:00:31       42 days 21:43:09         89 days 18:43:40\n59 days 18:42:57       30 days 03:45:03         89 days 22:28:00\n40 days 11:22:57       49 days 12:20:52         89 days 23:43:49\n33 days 20:39:11       19 days 18:42:39         53 days 15:21:50\n62 days 20:14:11       27 days 03:33:22         89 days 23:47:33\n61 days 03:40:36       28 days 15:52:51         89 days 19:33:27\n50 days 06:58:14       39 days 12:51:36         89 days 19:49:50\n50 days 01:16:44       39 days 21:25:00         89 days 22:41:44\n"
    }
   ],
   "source": [
    "print('cycle in working time','','cycle when not working','','all time sum of the machine')\n",
    "print('')\n",
    "for i in range(len(list)):\n",
    "    print(list[i]['timeInWorking'].sum(),'     ', list[i]['timeNotWorking'].sum(),'       ',list[i]['timeInWorking'].sum()+list[i]['timeNotWorking'].sum())"
   ]
  },
  {
   "cell_type": "code",
   "execution_count": 24,
   "metadata": {},
   "outputs": [
    {
     "output_type": "stream",
     "name": "stdout",
     "text": "1 számú gép:  2 days 17:35:47\n2 számú gép:  15 days 15:56:57\n3 számú gép:  2 days 17:56:54\n4 számú gép:  2 days 12:10:12\n5 számú gép:  21 days 23:48:24\n6 számú gép:  12 days 01:14:57\n7 számú gép:  10 days 03:15:27\n8 számú gép:  1 days 22:54:34\n"
    }
   ],
   "source": [
    "for i in range(len(list_anomaly)):\n",
    "    print(str(i+1) + \" számú gép: \",list_anomaly[i]['timeInAnomaly'].sum())"
   ]
  },
  {
   "cell_type": "code",
   "execution_count": 25,
   "metadata": {},
   "outputs": [],
   "source": [
    "# dolgok egybe gyúrása"
   ]
  },
  {
   "cell_type": "code",
   "execution_count": 26,
   "metadata": {},
   "outputs": [],
   "source": [
    "for i in range(len(list_anomaly)-1):\n",
    "    del list_anomaly[i]['Machine']\n",
    "    del list_anomaly[i]['StatusTime']\n",
    "    del list_anomaly[i]['SubStatus']"
   ]
  },
  {
   "cell_type": "code",
   "execution_count": 27,
   "metadata": {},
   "outputs": [],
   "source": [
    "list_new = []\n",
    "for i in range(len(list)-1):\n",
    "    list_new.append(pd.merge(list[i], list_anomaly[i], left_on='Id', right_on='Id', how='left'))"
   ]
  },
  {
   "cell_type": "code",
   "execution_count": 28,
   "metadata": {},
   "outputs": [],
   "source": [
    "df = pd.concat(list_new)"
   ]
  },
  {
   "cell_type": "markdown",
   "metadata": {},
   "source": [
    "df.to_csv('cycle_status_3.csv', sep=\";\")"
   ]
  },
  {
   "cell_type": "code",
   "execution_count": 29,
   "metadata": {},
   "outputs": [
    {
     "output_type": "execute_result",
     "data": {
      "text/plain": "           Id Machine           StatusTime SubStatus   timeInWorking  \\\n0         827   10704  2019-08-21 14:13:54    ACTIVE 0 days 00:00:00   \n1         848   10704  2019-08-21 14:14:53       END 0 days 00:00:59   \n2         903   10704  2019-08-21 14:18:47    ACTIVE 0 days 00:00:00   \n3      158543   10704  2019-08-28 19:15:37       END 7 days 04:56:50   \n4      160748   10704  2019-08-28 20:15:08    ACTIVE 0 days 00:00:00   \n...       ...     ...                  ...       ...             ...   \n4519  2005884   10704  2019-11-19 05:16:12       END 0 days 00:06:43   \n4520  2005907   10704  2019-11-19 05:18:33    ACTIVE 0 days 00:00:00   \n4521  2006147   10704  2019-11-19 05:25:33       END 0 days 00:07:00   \n4522  2006214   10704  2019-11-19 05:27:34    ACTIVE 0 days 00:00:00   \n4523  2012295   10704  2019-11-19 12:41:54       END 0 days 07:14:20   \n\n     timeNotWorking   timeInAnomaly  \n0          00:00:00 0 days 00:00:00  \n1          00:00:00 0 days 00:00:00  \n2          00:03:54 0 days 00:00:00  \n3          00:00:00 7 days 04:38:11  \n4          00:59:31 0 days 00:00:00  \n...             ...             ...  \n4519       00:00:00 0 days 00:00:00  \n4520       00:02:21 0 days 00:00:00  \n4521       00:00:00 0 days 00:00:00  \n4522       00:02:01 0 days 00:00:00  \n4523       00:00:00 0 days 07:07:17  \n\n[4524 rows x 7 columns]",
      "text/html": "<div>\n<style scoped>\n    .dataframe tbody tr th:only-of-type {\n        vertical-align: middle;\n    }\n\n    .dataframe tbody tr th {\n        vertical-align: top;\n    }\n\n    .dataframe thead th {\n        text-align: right;\n    }\n</style>\n<table border=\"1\" class=\"dataframe\">\n  <thead>\n    <tr style=\"text-align: right;\">\n      <th></th>\n      <th>Id</th>\n      <th>Machine</th>\n      <th>StatusTime</th>\n      <th>SubStatus</th>\n      <th>timeInWorking</th>\n      <th>timeNotWorking</th>\n      <th>timeInAnomaly</th>\n    </tr>\n  </thead>\n  <tbody>\n    <tr>\n      <th>0</th>\n      <td>827</td>\n      <td>10704</td>\n      <td>2019-08-21 14:13:54</td>\n      <td>ACTIVE</td>\n      <td>0 days 00:00:00</td>\n      <td>00:00:00</td>\n      <td>0 days 00:00:00</td>\n    </tr>\n    <tr>\n      <th>1</th>\n      <td>848</td>\n      <td>10704</td>\n      <td>2019-08-21 14:14:53</td>\n      <td>END</td>\n      <td>0 days 00:00:59</td>\n      <td>00:00:00</td>\n      <td>0 days 00:00:00</td>\n    </tr>\n    <tr>\n      <th>2</th>\n      <td>903</td>\n      <td>10704</td>\n      <td>2019-08-21 14:18:47</td>\n      <td>ACTIVE</td>\n      <td>0 days 00:00:00</td>\n      <td>00:03:54</td>\n      <td>0 days 00:00:00</td>\n    </tr>\n    <tr>\n      <th>3</th>\n      <td>158543</td>\n      <td>10704</td>\n      <td>2019-08-28 19:15:37</td>\n      <td>END</td>\n      <td>7 days 04:56:50</td>\n      <td>00:00:00</td>\n      <td>7 days 04:38:11</td>\n    </tr>\n    <tr>\n      <th>4</th>\n      <td>160748</td>\n      <td>10704</td>\n      <td>2019-08-28 20:15:08</td>\n      <td>ACTIVE</td>\n      <td>0 days 00:00:00</td>\n      <td>00:59:31</td>\n      <td>0 days 00:00:00</td>\n    </tr>\n    <tr>\n      <th>...</th>\n      <td>...</td>\n      <td>...</td>\n      <td>...</td>\n      <td>...</td>\n      <td>...</td>\n      <td>...</td>\n      <td>...</td>\n    </tr>\n    <tr>\n      <th>4519</th>\n      <td>2005884</td>\n      <td>10704</td>\n      <td>2019-11-19 05:16:12</td>\n      <td>END</td>\n      <td>0 days 00:06:43</td>\n      <td>00:00:00</td>\n      <td>0 days 00:00:00</td>\n    </tr>\n    <tr>\n      <th>4520</th>\n      <td>2005907</td>\n      <td>10704</td>\n      <td>2019-11-19 05:18:33</td>\n      <td>ACTIVE</td>\n      <td>0 days 00:00:00</td>\n      <td>00:02:21</td>\n      <td>0 days 00:00:00</td>\n    </tr>\n    <tr>\n      <th>4521</th>\n      <td>2006147</td>\n      <td>10704</td>\n      <td>2019-11-19 05:25:33</td>\n      <td>END</td>\n      <td>0 days 00:07:00</td>\n      <td>00:00:00</td>\n      <td>0 days 00:00:00</td>\n    </tr>\n    <tr>\n      <th>4522</th>\n      <td>2006214</td>\n      <td>10704</td>\n      <td>2019-11-19 05:27:34</td>\n      <td>ACTIVE</td>\n      <td>0 days 00:00:00</td>\n      <td>00:02:01</td>\n      <td>0 days 00:00:00</td>\n    </tr>\n    <tr>\n      <th>4523</th>\n      <td>2012295</td>\n      <td>10704</td>\n      <td>2019-11-19 12:41:54</td>\n      <td>END</td>\n      <td>0 days 07:14:20</td>\n      <td>00:00:00</td>\n      <td>0 days 07:07:17</td>\n    </tr>\n  </tbody>\n</table>\n<p>4524 rows × 7 columns</p>\n</div>"
     },
     "metadata": {},
     "execution_count": 29
    }
   ],
   "source": [
    "df[df['Machine']=='10704']"
   ]
  },
  {
   "cell_type": "code",
   "execution_count": 30,
   "metadata": {},
   "outputs": [],
   "source": [
    "import os\n",
    "from datetime import datetime as dt\n",
    "import datetime\n",
    "import pytz, time\n",
    "import gc\n",
    "\n",
    "os.environ['TZ'] = 'Europe/Budpest'\n",
    "CET = pytz.timezone('Europe/Budapest')"
   ]
  },
  {
   "cell_type": "code",
   "execution_count": 31,
   "metadata": {},
   "outputs": [
    {
     "output_type": "execute_result",
     "data": {
      "text/plain": "                            Id Machine SubStatus timeInWorking timeNotWorking  \\\nStatusTime                                                                      \n2019-08-21 13:24:30+02:00  102   10395    ACTIVE      00:00:00       00:00:00   \n2019-08-21 13:25:30+02:00  137   10469    ACTIVE      00:00:00       00:00:00   \n2019-08-21 13:30:24+02:00  270   10395       END      00:05:54       00:00:00   \n2019-08-21 13:32:02+02:00  279   10395    ACTIVE      00:00:00       00:01:38   \n2019-08-21 13:36:18+02:00  357   10469       END      00:10:48       00:00:00   \n\n                          timeInAnomaly  \nStatusTime                               \n2019-08-21 13:24:30+02:00        0 days  \n2019-08-21 13:25:30+02:00        0 days  \n2019-08-21 13:30:24+02:00        0 days  \n2019-08-21 13:32:02+02:00        0 days  \n2019-08-21 13:36:18+02:00        0 days  ",
      "text/html": "<div>\n<style scoped>\n    .dataframe tbody tr th:only-of-type {\n        vertical-align: middle;\n    }\n\n    .dataframe tbody tr th {\n        vertical-align: top;\n    }\n\n    .dataframe thead th {\n        text-align: right;\n    }\n</style>\n<table border=\"1\" class=\"dataframe\">\n  <thead>\n    <tr style=\"text-align: right;\">\n      <th></th>\n      <th>Id</th>\n      <th>Machine</th>\n      <th>SubStatus</th>\n      <th>timeInWorking</th>\n      <th>timeNotWorking</th>\n      <th>timeInAnomaly</th>\n    </tr>\n    <tr>\n      <th>StatusTime</th>\n      <th></th>\n      <th></th>\n      <th></th>\n      <th></th>\n      <th></th>\n      <th></th>\n    </tr>\n  </thead>\n  <tbody>\n    <tr>\n      <th>2019-08-21 13:24:30+02:00</th>\n      <td>102</td>\n      <td>10395</td>\n      <td>ACTIVE</td>\n      <td>00:00:00</td>\n      <td>00:00:00</td>\n      <td>0 days</td>\n    </tr>\n    <tr>\n      <th>2019-08-21 13:25:30+02:00</th>\n      <td>137</td>\n      <td>10469</td>\n      <td>ACTIVE</td>\n      <td>00:00:00</td>\n      <td>00:00:00</td>\n      <td>0 days</td>\n    </tr>\n    <tr>\n      <th>2019-08-21 13:30:24+02:00</th>\n      <td>270</td>\n      <td>10395</td>\n      <td>END</td>\n      <td>00:05:54</td>\n      <td>00:00:00</td>\n      <td>0 days</td>\n    </tr>\n    <tr>\n      <th>2019-08-21 13:32:02+02:00</th>\n      <td>279</td>\n      <td>10395</td>\n      <td>ACTIVE</td>\n      <td>00:00:00</td>\n      <td>00:01:38</td>\n      <td>0 days</td>\n    </tr>\n    <tr>\n      <th>2019-08-21 13:36:18+02:00</th>\n      <td>357</td>\n      <td>10469</td>\n      <td>END</td>\n      <td>00:10:48</td>\n      <td>00:00:00</td>\n      <td>0 days</td>\n    </tr>\n  </tbody>\n</table>\n</div>"
     },
     "metadata": {},
     "execution_count": 31
    }
   ],
   "source": [
    "df = df[['Id', 'Machine', 'StatusTime', 'SubStatus', 'timeInWorking', 'timeNotWorking', 'timeInAnomaly']]\n",
    "df = df.astype({'StatusTime' : 'datetime64'})\n",
    "df.index = df.StatusTime\n",
    "df.index = df.index.tz_localize('Europe/Budapest')\n",
    "df = df.drop(columns='StatusTime')\n",
    "df.sort_values(inplace=True, axis='index', by='StatusTime')\n",
    "df.head()"
   ]
  },
  {
   "cell_type": "code",
   "execution_count": 32,
   "metadata": {},
   "outputs": [],
   "source": [
    "df['ts_work'] = 0\n",
    "df['ts_notwork'] = 0\n",
    "df['ts_anom'] = 0\n",
    "for i in range(len(df)):\n",
    "    df['ts_work'].iloc[i] = df['timeInWorking'].iloc[i].total_seconds() / 3600\n",
    "    df['ts_notwork'].iloc[i] = df['timeNotWorking'].iloc[i].total_seconds() / 3600\n",
    "    df['ts_anom'].iloc[i] = df['timeInAnomaly'].iloc[i].total_seconds() / 3600"
   ]
  },
  {
   "cell_type": "code",
   "execution_count": 33,
   "metadata": {},
   "outputs": [
    {
     "output_type": "execute_result",
     "data": {
      "text/plain": "                                Id Machine SubStatus   ts_work  ts_notwork  \\\nStatusTime                                                                   \n2019-08-21 13:24:30+02:00      102   10395    ACTIVE  0.000000    0.000000   \n2019-08-21 13:25:30+02:00      137   10469    ACTIVE  0.000000    0.000000   \n2019-08-21 13:30:24+02:00      270   10395       END  0.098333    0.000000   \n2019-08-21 13:32:02+02:00      279   10395    ACTIVE  0.000000    0.027222   \n2019-08-21 13:36:18+02:00      357   10469       END  0.180000    0.000000   \n...                            ...     ...       ...       ...         ...   \n2019-11-19 12:48:35+01:00  2012454   10469    ACTIVE  0.000000    0.005556   \n2019-11-19 12:50:59+01:00  2012500   10395       END  0.217222    0.000000   \n2019-11-19 12:54:00+01:00  2012588   10395    ACTIVE  0.000000    0.050278   \n2019-11-19 13:09:19+01:00  2012934   10469       END  0.345556    0.000000   \n2019-11-19 13:12:03+01:00  2013008   10395       END  0.300833    0.000000   \n\n                           ts_anom  \nStatusTime                          \n2019-08-21 13:24:30+02:00      0.0  \n2019-08-21 13:25:30+02:00      0.0  \n2019-08-21 13:30:24+02:00      0.0  \n2019-08-21 13:32:02+02:00      0.0  \n2019-08-21 13:36:18+02:00      0.0  \n...                            ...  \n2019-11-19 12:48:35+01:00      0.0  \n2019-11-19 12:50:59+01:00      0.0  \n2019-11-19 12:54:00+01:00      0.0  \n2019-11-19 13:09:19+01:00      0.0  \n2019-11-19 13:12:03+01:00      0.0  \n\n[27134 rows x 6 columns]",
      "text/html": "<div>\n<style scoped>\n    .dataframe tbody tr th:only-of-type {\n        vertical-align: middle;\n    }\n\n    .dataframe tbody tr th {\n        vertical-align: top;\n    }\n\n    .dataframe thead th {\n        text-align: right;\n    }\n</style>\n<table border=\"1\" class=\"dataframe\">\n  <thead>\n    <tr style=\"text-align: right;\">\n      <th></th>\n      <th>Id</th>\n      <th>Machine</th>\n      <th>SubStatus</th>\n      <th>ts_work</th>\n      <th>ts_notwork</th>\n      <th>ts_anom</th>\n    </tr>\n    <tr>\n      <th>StatusTime</th>\n      <th></th>\n      <th></th>\n      <th></th>\n      <th></th>\n      <th></th>\n      <th></th>\n    </tr>\n  </thead>\n  <tbody>\n    <tr>\n      <th>2019-08-21 13:24:30+02:00</th>\n      <td>102</td>\n      <td>10395</td>\n      <td>ACTIVE</td>\n      <td>0.000000</td>\n      <td>0.000000</td>\n      <td>0.0</td>\n    </tr>\n    <tr>\n      <th>2019-08-21 13:25:30+02:00</th>\n      <td>137</td>\n      <td>10469</td>\n      <td>ACTIVE</td>\n      <td>0.000000</td>\n      <td>0.000000</td>\n      <td>0.0</td>\n    </tr>\n    <tr>\n      <th>2019-08-21 13:30:24+02:00</th>\n      <td>270</td>\n      <td>10395</td>\n      <td>END</td>\n      <td>0.098333</td>\n      <td>0.000000</td>\n      <td>0.0</td>\n    </tr>\n    <tr>\n      <th>2019-08-21 13:32:02+02:00</th>\n      <td>279</td>\n      <td>10395</td>\n      <td>ACTIVE</td>\n      <td>0.000000</td>\n      <td>0.027222</td>\n      <td>0.0</td>\n    </tr>\n    <tr>\n      <th>2019-08-21 13:36:18+02:00</th>\n      <td>357</td>\n      <td>10469</td>\n      <td>END</td>\n      <td>0.180000</td>\n      <td>0.000000</td>\n      <td>0.0</td>\n    </tr>\n    <tr>\n      <th>...</th>\n      <td>...</td>\n      <td>...</td>\n      <td>...</td>\n      <td>...</td>\n      <td>...</td>\n      <td>...</td>\n    </tr>\n    <tr>\n      <th>2019-11-19 12:48:35+01:00</th>\n      <td>2012454</td>\n      <td>10469</td>\n      <td>ACTIVE</td>\n      <td>0.000000</td>\n      <td>0.005556</td>\n      <td>0.0</td>\n    </tr>\n    <tr>\n      <th>2019-11-19 12:50:59+01:00</th>\n      <td>2012500</td>\n      <td>10395</td>\n      <td>END</td>\n      <td>0.217222</td>\n      <td>0.000000</td>\n      <td>0.0</td>\n    </tr>\n    <tr>\n      <th>2019-11-19 12:54:00+01:00</th>\n      <td>2012588</td>\n      <td>10395</td>\n      <td>ACTIVE</td>\n      <td>0.000000</td>\n      <td>0.050278</td>\n      <td>0.0</td>\n    </tr>\n    <tr>\n      <th>2019-11-19 13:09:19+01:00</th>\n      <td>2012934</td>\n      <td>10469</td>\n      <td>END</td>\n      <td>0.345556</td>\n      <td>0.000000</td>\n      <td>0.0</td>\n    </tr>\n    <tr>\n      <th>2019-11-19 13:12:03+01:00</th>\n      <td>2013008</td>\n      <td>10395</td>\n      <td>END</td>\n      <td>0.300833</td>\n      <td>0.000000</td>\n      <td>0.0</td>\n    </tr>\n  </tbody>\n</table>\n<p>27134 rows × 6 columns</p>\n</div>"
     },
     "metadata": {},
     "execution_count": 33
    }
   ],
   "source": [
    "del df['timeInWorking']\n",
    "del df['timeNotWorking']\n",
    "del df['timeInAnomaly']\n",
    "df"
   ]
  },
  {
   "cell_type": "code",
   "execution_count": 34,
   "metadata": {},
   "outputs": [
    {
     "output_type": "execute_result",
     "data": {
      "text/plain": "defaultdict(list,\n            {'cycle_status':                           Machine SubStatus  ts_anom  ts_notwork   ts_work\n             2019-08-21 11:24:30+00:00   10395    ACTIVE      0.0    0.000000  0.000000\n             2019-08-21 11:25:30+00:00   10469    ACTIVE      0.0    0.000000  0.000000\n             2019-08-21 11:30:24+00:00   10395       END      0.0    0.000000  0.098333\n             2019-08-21 11:32:02+00:00   10395    ACTIVE      0.0    0.027222  0.000000\n             2019-08-21 11:36:18+00:00   10469       END      0.0    0.000000  0.180000\n             ...                           ...       ...      ...         ...       ...\n             2019-11-19 11:48:35+00:00   10469    ACTIVE      0.0    0.005556  0.000000\n             2019-11-19 11:50:59+00:00   10395       END      0.0    0.000000  0.217222\n             2019-11-19 11:54:00+00:00   10395    ACTIVE      0.0    0.050278  0.000000\n             2019-11-19 12:09:19+00:00   10469       END      0.0    0.000000  0.345556\n             2019-11-19 12:12:03+00:00   10395       END      0.0    0.000000  0.300833\n             \n             [27134 rows x 5 columns]})"
     },
     "metadata": {},
     "execution_count": 34
    }
   ],
   "source": [
    "import influxdb\n",
    "\n",
    "client = influxdb.DataFrameClient(host='152.66.34.82', port=8086)\n",
    "client.switch_database('knorr')\n",
    "client.query(query='DROP MEASUREMENT \"cycle_status\"', database='knorr')\n",
    "client.write_points(df, database='knorr', measurement='cycle_status', tag_columns=['Machine', 'SubStatus'], field_columns=['ts_work','ts_notwork','ts_anom'], time_precision='ms', batch_size=10000, protocol='line')\n",
    "client.query(query='SELECT * FROM cycle_status', database='knorr')"
   ]
  },
  {
   "cell_type": "code",
   "execution_count": null,
   "metadata": {},
   "outputs": [],
   "source": []
  }
 ],
 "metadata": {
  "celltoolbar": "Edit Metadata",
  "kernelspec": {
   "display_name": "Python 3.7.3 64-bit ('anaconda3': virtualenv)",
   "language": "python",
   "name": "python37364bitanaconda3virtualenvf298a04dab3e493999cb12b49f5694ff"
  },
  "language_info": {
   "codemirror_mode": {
    "name": "ipython",
    "version": 3
   },
   "file_extension": ".py",
   "mimetype": "text/x-python",
   "name": "python",
   "nbconvert_exporter": "python",
   "pygments_lexer": "ipython3",
   "version": "3.7.3-final"
  }
 },
 "nbformat": 4,
 "nbformat_minor": 2
}